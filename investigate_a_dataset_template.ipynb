{
 "cells": [
  {
   "cell_type": "markdown",
   "metadata": {},
   "source": [
    "# Project: tmdb-movies.csv\n",
    "## Abdallah Sayed Ali\n",
    "\n",
    "## Table of Contents\n",
    "<ul>\n",
    "<li><a href=\"#intro\">Introduction</a></li>\n",
    "<li><a href=\"#wrangling\">Data Wrangling</a></li>\n",
    "<li><a href=\"#eda\">Exploratory Data Analysis</a></li>\n",
    "<li><a href=\"#conclusions\">Conclusions</a></li>\n",
    "</ul>"
   ]
  },
  {
   "cell_type": "markdown",
   "metadata": {},
   "source": [
    "<a id='intro'></a>\n",
    "## Introduction\n",
    "\n",
    "In this project we will analysis a dataset about 10,000 movies,\n",
    "\n",
    "This data set contains information about 10,000 movies collected from The Movie Database (TMDb), including user ratings and revenue.\n",
    "\n",
    "+ Certain columns, like ‘cast’ and ‘genres’, contain multiple values separated by pipe (|) characters.\n",
    "+ There are some odd characters in the ‘cast’ column. Don’t worry about cleaning them. You can leave them as is.\n",
    "+ The final two columns ending with “_adj” show the budget and revenue of the associated movie in terms of 2010 dollars, accounting for inflation over time.\n",
    "\n",
    "#### we will trying to answer some question from this dataset:\n",
    "\n",
    "1- Which genres are most popular from year to year?\n",
    "\n",
    "2- What kinds of properties are associated with movies that have high revenues?"
   ]
  },
  {
   "cell_type": "code",
   "execution_count": 1,
   "metadata": {},
   "outputs": [],
   "source": [
    "# import Libraries to use it in analysing dataset\n",
    "import pandas as pd\n",
    "import numpy as np \n",
    "import matplotlib.pyplot as plt\n",
    "import seaborn as sns\n",
    "\n",
    "from datetime import datetime\n",
    "\n",
    "%matplotlib inline"
   ]
  },
  {
   "cell_type": "markdown",
   "metadata": {},
   "source": [
    "<a id='wrangling'></a>\n",
    "## Data Wrangling\n",
    "\n",
    "###### we'll read our dataset, explore it, write some notes about the dataset, check for cleanliness and clean our dataset for facilitate our analysis.\n",
    "\n",
    "### General Properties"
   ]
  },
  {
   "cell_type": "code",
   "execution_count": 2,
   "metadata": {},
   "outputs": [],
   "source": [
    "# read the dataset 'tmdb-movies.csv'\n",
    "df = pd.read_csv('tmdb-movies.csv')"
   ]
  },
  {
   "cell_type": "code",
   "execution_count": 3,
   "metadata": {},
   "outputs": [
    {
     "data": {
      "text/html": [
       "<div>\n",
       "<style scoped>\n",
       "    .dataframe tbody tr th:only-of-type {\n",
       "        vertical-align: middle;\n",
       "    }\n",
       "\n",
       "    .dataframe tbody tr th {\n",
       "        vertical-align: top;\n",
       "    }\n",
       "\n",
       "    .dataframe thead th {\n",
       "        text-align: right;\n",
       "    }\n",
       "</style>\n",
       "<table border=\"1\" class=\"dataframe\">\n",
       "  <thead>\n",
       "    <tr style=\"text-align: right;\">\n",
       "      <th></th>\n",
       "      <th>id</th>\n",
       "      <th>imdb_id</th>\n",
       "      <th>popularity</th>\n",
       "      <th>budget</th>\n",
       "      <th>revenue</th>\n",
       "      <th>original_title</th>\n",
       "      <th>cast</th>\n",
       "      <th>homepage</th>\n",
       "      <th>director</th>\n",
       "      <th>tagline</th>\n",
       "      <th>...</th>\n",
       "      <th>overview</th>\n",
       "      <th>runtime</th>\n",
       "      <th>genres</th>\n",
       "      <th>production_companies</th>\n",
       "      <th>release_date</th>\n",
       "      <th>vote_count</th>\n",
       "      <th>vote_average</th>\n",
       "      <th>release_year</th>\n",
       "      <th>budget_adj</th>\n",
       "      <th>revenue_adj</th>\n",
       "    </tr>\n",
       "  </thead>\n",
       "  <tbody>\n",
       "    <tr>\n",
       "      <th>0</th>\n",
       "      <td>135397</td>\n",
       "      <td>tt0369610</td>\n",
       "      <td>32.985763</td>\n",
       "      <td>150000000</td>\n",
       "      <td>1513528810</td>\n",
       "      <td>Jurassic World</td>\n",
       "      <td>Chris Pratt|Bryce Dallas Howard|Irrfan Khan|Vi...</td>\n",
       "      <td>http://www.jurassicworld.com/</td>\n",
       "      <td>Colin Trevorrow</td>\n",
       "      <td>The park is open.</td>\n",
       "      <td>...</td>\n",
       "      <td>Twenty-two years after the events of Jurassic ...</td>\n",
       "      <td>124</td>\n",
       "      <td>Action|Adventure|Science Fiction|Thriller</td>\n",
       "      <td>Universal Studios|Amblin Entertainment|Legenda...</td>\n",
       "      <td>6/9/15</td>\n",
       "      <td>5562</td>\n",
       "      <td>6.5</td>\n",
       "      <td>2015</td>\n",
       "      <td>1.379999e+08</td>\n",
       "      <td>1.392446e+09</td>\n",
       "    </tr>\n",
       "    <tr>\n",
       "      <th>1</th>\n",
       "      <td>76341</td>\n",
       "      <td>tt1392190</td>\n",
       "      <td>28.419936</td>\n",
       "      <td>150000000</td>\n",
       "      <td>378436354</td>\n",
       "      <td>Mad Max: Fury Road</td>\n",
       "      <td>Tom Hardy|Charlize Theron|Hugh Keays-Byrne|Nic...</td>\n",
       "      <td>http://www.madmaxmovie.com/</td>\n",
       "      <td>George Miller</td>\n",
       "      <td>What a Lovely Day.</td>\n",
       "      <td>...</td>\n",
       "      <td>An apocalyptic story set in the furthest reach...</td>\n",
       "      <td>120</td>\n",
       "      <td>Action|Adventure|Science Fiction|Thriller</td>\n",
       "      <td>Village Roadshow Pictures|Kennedy Miller Produ...</td>\n",
       "      <td>5/13/15</td>\n",
       "      <td>6185</td>\n",
       "      <td>7.1</td>\n",
       "      <td>2015</td>\n",
       "      <td>1.379999e+08</td>\n",
       "      <td>3.481613e+08</td>\n",
       "    </tr>\n",
       "    <tr>\n",
       "      <th>2</th>\n",
       "      <td>262500</td>\n",
       "      <td>tt2908446</td>\n",
       "      <td>13.112507</td>\n",
       "      <td>110000000</td>\n",
       "      <td>295238201</td>\n",
       "      <td>Insurgent</td>\n",
       "      <td>Shailene Woodley|Theo James|Kate Winslet|Ansel...</td>\n",
       "      <td>http://www.thedivergentseries.movie/#insurgent</td>\n",
       "      <td>Robert Schwentke</td>\n",
       "      <td>One Choice Can Destroy You</td>\n",
       "      <td>...</td>\n",
       "      <td>Beatrice Prior must confront her inner demons ...</td>\n",
       "      <td>119</td>\n",
       "      <td>Adventure|Science Fiction|Thriller</td>\n",
       "      <td>Summit Entertainment|Mandeville Films|Red Wago...</td>\n",
       "      <td>3/18/15</td>\n",
       "      <td>2480</td>\n",
       "      <td>6.3</td>\n",
       "      <td>2015</td>\n",
       "      <td>1.012000e+08</td>\n",
       "      <td>2.716190e+08</td>\n",
       "    </tr>\n",
       "    <tr>\n",
       "      <th>3</th>\n",
       "      <td>140607</td>\n",
       "      <td>tt2488496</td>\n",
       "      <td>11.173104</td>\n",
       "      <td>200000000</td>\n",
       "      <td>2068178225</td>\n",
       "      <td>Star Wars: The Force Awakens</td>\n",
       "      <td>Harrison Ford|Mark Hamill|Carrie Fisher|Adam D...</td>\n",
       "      <td>http://www.starwars.com/films/star-wars-episod...</td>\n",
       "      <td>J.J. Abrams</td>\n",
       "      <td>Every generation has a story.</td>\n",
       "      <td>...</td>\n",
       "      <td>Thirty years after defeating the Galactic Empi...</td>\n",
       "      <td>136</td>\n",
       "      <td>Action|Adventure|Science Fiction|Fantasy</td>\n",
       "      <td>Lucasfilm|Truenorth Productions|Bad Robot</td>\n",
       "      <td>12/15/15</td>\n",
       "      <td>5292</td>\n",
       "      <td>7.5</td>\n",
       "      <td>2015</td>\n",
       "      <td>1.839999e+08</td>\n",
       "      <td>1.902723e+09</td>\n",
       "    </tr>\n",
       "    <tr>\n",
       "      <th>4</th>\n",
       "      <td>168259</td>\n",
       "      <td>tt2820852</td>\n",
       "      <td>9.335014</td>\n",
       "      <td>190000000</td>\n",
       "      <td>1506249360</td>\n",
       "      <td>Furious 7</td>\n",
       "      <td>Vin Diesel|Paul Walker|Jason Statham|Michelle ...</td>\n",
       "      <td>http://www.furious7.com/</td>\n",
       "      <td>James Wan</td>\n",
       "      <td>Vengeance Hits Home</td>\n",
       "      <td>...</td>\n",
       "      <td>Deckard Shaw seeks revenge against Dominic Tor...</td>\n",
       "      <td>137</td>\n",
       "      <td>Action|Crime|Thriller</td>\n",
       "      <td>Universal Pictures|Original Film|Media Rights ...</td>\n",
       "      <td>4/1/15</td>\n",
       "      <td>2947</td>\n",
       "      <td>7.3</td>\n",
       "      <td>2015</td>\n",
       "      <td>1.747999e+08</td>\n",
       "      <td>1.385749e+09</td>\n",
       "    </tr>\n",
       "  </tbody>\n",
       "</table>\n",
       "<p>5 rows × 21 columns</p>\n",
       "</div>"
      ],
      "text/plain": [
       "       id    imdb_id  popularity     budget     revenue  \\\n",
       "0  135397  tt0369610   32.985763  150000000  1513528810   \n",
       "1   76341  tt1392190   28.419936  150000000   378436354   \n",
       "2  262500  tt2908446   13.112507  110000000   295238201   \n",
       "3  140607  tt2488496   11.173104  200000000  2068178225   \n",
       "4  168259  tt2820852    9.335014  190000000  1506249360   \n",
       "\n",
       "                 original_title  \\\n",
       "0                Jurassic World   \n",
       "1            Mad Max: Fury Road   \n",
       "2                     Insurgent   \n",
       "3  Star Wars: The Force Awakens   \n",
       "4                     Furious 7   \n",
       "\n",
       "                                                cast  \\\n",
       "0  Chris Pratt|Bryce Dallas Howard|Irrfan Khan|Vi...   \n",
       "1  Tom Hardy|Charlize Theron|Hugh Keays-Byrne|Nic...   \n",
       "2  Shailene Woodley|Theo James|Kate Winslet|Ansel...   \n",
       "3  Harrison Ford|Mark Hamill|Carrie Fisher|Adam D...   \n",
       "4  Vin Diesel|Paul Walker|Jason Statham|Michelle ...   \n",
       "\n",
       "                                            homepage          director  \\\n",
       "0                      http://www.jurassicworld.com/   Colin Trevorrow   \n",
       "1                        http://www.madmaxmovie.com/     George Miller   \n",
       "2     http://www.thedivergentseries.movie/#insurgent  Robert Schwentke   \n",
       "3  http://www.starwars.com/films/star-wars-episod...       J.J. Abrams   \n",
       "4                           http://www.furious7.com/         James Wan   \n",
       "\n",
       "                         tagline  ...  \\\n",
       "0              The park is open.  ...   \n",
       "1             What a Lovely Day.  ...   \n",
       "2     One Choice Can Destroy You  ...   \n",
       "3  Every generation has a story.  ...   \n",
       "4            Vengeance Hits Home  ...   \n",
       "\n",
       "                                            overview runtime  \\\n",
       "0  Twenty-two years after the events of Jurassic ...     124   \n",
       "1  An apocalyptic story set in the furthest reach...     120   \n",
       "2  Beatrice Prior must confront her inner demons ...     119   \n",
       "3  Thirty years after defeating the Galactic Empi...     136   \n",
       "4  Deckard Shaw seeks revenge against Dominic Tor...     137   \n",
       "\n",
       "                                      genres  \\\n",
       "0  Action|Adventure|Science Fiction|Thriller   \n",
       "1  Action|Adventure|Science Fiction|Thriller   \n",
       "2         Adventure|Science Fiction|Thriller   \n",
       "3   Action|Adventure|Science Fiction|Fantasy   \n",
       "4                      Action|Crime|Thriller   \n",
       "\n",
       "                                production_companies release_date vote_count  \\\n",
       "0  Universal Studios|Amblin Entertainment|Legenda...       6/9/15       5562   \n",
       "1  Village Roadshow Pictures|Kennedy Miller Produ...      5/13/15       6185   \n",
       "2  Summit Entertainment|Mandeville Films|Red Wago...      3/18/15       2480   \n",
       "3          Lucasfilm|Truenorth Productions|Bad Robot     12/15/15       5292   \n",
       "4  Universal Pictures|Original Film|Media Rights ...       4/1/15       2947   \n",
       "\n",
       "   vote_average  release_year    budget_adj   revenue_adj  \n",
       "0           6.5          2015  1.379999e+08  1.392446e+09  \n",
       "1           7.1          2015  1.379999e+08  3.481613e+08  \n",
       "2           6.3          2015  1.012000e+08  2.716190e+08  \n",
       "3           7.5          2015  1.839999e+08  1.902723e+09  \n",
       "4           7.3          2015  1.747999e+08  1.385749e+09  \n",
       "\n",
       "[5 rows x 21 columns]"
      ]
     },
     "execution_count": 3,
     "metadata": {},
     "output_type": "execute_result"
    }
   ],
   "source": [
    "# see first 5 rows\n",
    "df.head()"
   ]
  },
  {
   "cell_type": "code",
   "execution_count": 4,
   "metadata": {},
   "outputs": [
    {
     "name": "stdout",
     "output_type": "stream",
     "text": [
      "<class 'pandas.core.frame.DataFrame'>\n",
      "RangeIndex: 10866 entries, 0 to 10865\n",
      "Data columns (total 21 columns):\n",
      " #   Column                Non-Null Count  Dtype  \n",
      "---  ------                --------------  -----  \n",
      " 0   id                    10866 non-null  int64  \n",
      " 1   imdb_id               10856 non-null  object \n",
      " 2   popularity            10866 non-null  float64\n",
      " 3   budget                10866 non-null  int64  \n",
      " 4   revenue               10866 non-null  int64  \n",
      " 5   original_title        10866 non-null  object \n",
      " 6   cast                  10790 non-null  object \n",
      " 7   homepage              2936 non-null   object \n",
      " 8   director              10822 non-null  object \n",
      " 9   tagline               8042 non-null   object \n",
      " 10  keywords              9373 non-null   object \n",
      " 11  overview              10862 non-null  object \n",
      " 12  runtime               10866 non-null  int64  \n",
      " 13  genres                10843 non-null  object \n",
      " 14  production_companies  9836 non-null   object \n",
      " 15  release_date          10866 non-null  object \n",
      " 16  vote_count            10866 non-null  int64  \n",
      " 17  vote_average          10866 non-null  float64\n",
      " 18  release_year          10866 non-null  int64  \n",
      " 19  budget_adj            10866 non-null  float64\n",
      " 20  revenue_adj           10866 non-null  float64\n",
      "dtypes: float64(4), int64(6), object(11)\n",
      "memory usage: 1.7+ MB\n"
     ]
    }
   ],
   "source": [
    "# try to see missing data, columns & data types ( info of dataset)\n",
    "df.info()"
   ]
  },
  {
   "cell_type": "markdown",
   "metadata": {},
   "source": [
    "###### we have here budget  and revenue columns , so we could create profit column "
   ]
  },
  {
   "cell_type": "code",
   "execution_count": 5,
   "metadata": {},
   "outputs": [],
   "source": [
    "# add new column called profit based on budget of the movie and its revenue\n",
    "# using insert function \n",
    "df.insert(2,'profit',df.budget - df.revenue)"
   ]
  },
  {
   "cell_type": "code",
   "execution_count": 6,
   "metadata": {},
   "outputs": [
    {
     "data": {
      "text/plain": [
       "(10866, 22)"
      ]
     },
     "execution_count": 6,
     "metadata": {},
     "output_type": "execute_result"
    }
   ],
   "source": [
    "# shape of dataset \n",
    "df.shape"
   ]
  },
  {
   "cell_type": "code",
   "execution_count": 7,
   "metadata": {},
   "outputs": [
    {
     "data": {
      "text/plain": [
       "1"
      ]
     },
     "execution_count": 7,
     "metadata": {},
     "output_type": "execute_result"
    }
   ],
   "source": [
    "# see how many duplicated values \n",
    "df.duplicated().sum()"
   ]
  },
  {
   "cell_type": "code",
   "execution_count": 8,
   "metadata": {},
   "outputs": [
    {
     "data": {
      "text/html": [
       "<div>\n",
       "<style scoped>\n",
       "    .dataframe tbody tr th:only-of-type {\n",
       "        vertical-align: middle;\n",
       "    }\n",
       "\n",
       "    .dataframe tbody tr th {\n",
       "        vertical-align: top;\n",
       "    }\n",
       "\n",
       "    .dataframe thead th {\n",
       "        text-align: right;\n",
       "    }\n",
       "</style>\n",
       "<table border=\"1\" class=\"dataframe\">\n",
       "  <thead>\n",
       "    <tr style=\"text-align: right;\">\n",
       "      <th></th>\n",
       "      <th>id</th>\n",
       "      <th>imdb_id</th>\n",
       "      <th>profit</th>\n",
       "      <th>popularity</th>\n",
       "      <th>budget</th>\n",
       "      <th>revenue</th>\n",
       "      <th>original_title</th>\n",
       "      <th>cast</th>\n",
       "      <th>homepage</th>\n",
       "      <th>director</th>\n",
       "      <th>...</th>\n",
       "      <th>overview</th>\n",
       "      <th>runtime</th>\n",
       "      <th>genres</th>\n",
       "      <th>production_companies</th>\n",
       "      <th>release_date</th>\n",
       "      <th>vote_count</th>\n",
       "      <th>vote_average</th>\n",
       "      <th>release_year</th>\n",
       "      <th>budget_adj</th>\n",
       "      <th>revenue_adj</th>\n",
       "    </tr>\n",
       "  </thead>\n",
       "  <tbody>\n",
       "    <tr>\n",
       "      <th>2090</th>\n",
       "      <td>42194</td>\n",
       "      <td>tt0411951</td>\n",
       "      <td>29033000</td>\n",
       "      <td>0.59643</td>\n",
       "      <td>30000000</td>\n",
       "      <td>967000</td>\n",
       "      <td>TEKKEN</td>\n",
       "      <td>Jon Foo|Kelly Overton|Cary-Hiroyuki Tagawa|Ian...</td>\n",
       "      <td>NaN</td>\n",
       "      <td>Dwight H. Little</td>\n",
       "      <td>...</td>\n",
       "      <td>In the year of 2039, after World Wars destroy ...</td>\n",
       "      <td>92</td>\n",
       "      <td>Crime|Drama|Action|Thriller|Science Fiction</td>\n",
       "      <td>Namco|Light Song Films</td>\n",
       "      <td>3/20/10</td>\n",
       "      <td>110</td>\n",
       "      <td>5.0</td>\n",
       "      <td>2010</td>\n",
       "      <td>30000000.0</td>\n",
       "      <td>967000.0</td>\n",
       "    </tr>\n",
       "  </tbody>\n",
       "</table>\n",
       "<p>1 rows × 22 columns</p>\n",
       "</div>"
      ],
      "text/plain": [
       "         id    imdb_id    profit  popularity    budget  revenue  \\\n",
       "2090  42194  tt0411951  29033000     0.59643  30000000   967000   \n",
       "\n",
       "     original_title                                               cast  \\\n",
       "2090         TEKKEN  Jon Foo|Kelly Overton|Cary-Hiroyuki Tagawa|Ian...   \n",
       "\n",
       "     homepage          director  ...  \\\n",
       "2090      NaN  Dwight H. Little  ...   \n",
       "\n",
       "                                               overview runtime  \\\n",
       "2090  In the year of 2039, after World Wars destroy ...      92   \n",
       "\n",
       "                                           genres    production_companies  \\\n",
       "2090  Crime|Drama|Action|Thriller|Science Fiction  Namco|Light Song Films   \n",
       "\n",
       "     release_date vote_count vote_average  release_year  budget_adj  \\\n",
       "2090      3/20/10        110          5.0          2010  30000000.0   \n",
       "\n",
       "      revenue_adj  \n",
       "2090     967000.0  \n",
       "\n",
       "[1 rows x 22 columns]"
      ]
     },
     "execution_count": 8,
     "metadata": {},
     "output_type": "execute_result"
    }
   ],
   "source": [
    "# see duplicated row \n",
    "df[df.duplicated()]"
   ]
  },
  {
   "cell_type": "code",
   "execution_count": 9,
   "metadata": {},
   "outputs": [
    {
     "data": {
      "text/plain": [
       "(6016, 6016)"
      ]
     },
     "execution_count": 9,
     "metadata": {},
     "output_type": "execute_result"
    }
   ],
   "source": [
    "# check if revenue have 0 values\n",
    "sum(df.revenue == 0) , sum(df.revenue_adj == 0)"
   ]
  },
  {
   "cell_type": "code",
   "execution_count": 10,
   "metadata": {},
   "outputs": [
    {
     "data": {
      "text/plain": [
       "5696"
      ]
     },
     "execution_count": 10,
     "metadata": {},
     "output_type": "execute_result"
    }
   ],
   "source": [
    "# check if budget have 0 values\n",
    "sum(df.budget == 0)"
   ]
  },
  {
   "cell_type": "markdown",
   "metadata": {},
   "source": [
    "\n",
    "###### it seems that 6016 have 0 revenue of 10866 total and 5696 have 0 budget of 10866 total"
   ]
  },
  {
   "cell_type": "code",
   "execution_count": 11,
   "metadata": {},
   "outputs": [
    {
     "data": {
      "image/png": "[encoded data removed]",
      "text/plain": [
       "<Figure size 1080x1080 with 12 Axes>"
      ]
     },
     "metadata": {
      "needs_background": "light"
     },
     "output_type": "display_data"
    }
   ],
   "source": [
    "# explore our data by histogram to make it easy \n",
    "df.hist(figsize=(15,15));"
   ]
  },
  {
   "cell_type": "markdown",
   "metadata": {},
   "source": [
    "It seems here in histogram of release_year that more than 3000 movies have been released in 2010 & continuous\n",
    "increaseing  \n"
   ]
  },
  {
   "cell_type": "code",
   "execution_count": 12,
   "metadata": {},
   "outputs": [
    {
     "data": {
      "text/plain": [
       "8478"
      ]
     },
     "execution_count": 12,
     "metadata": {},
     "output_type": "execute_result"
    }
   ],
   "source": [
    "# check if we have negative profits in our dataset \n",
    "sum(df.profit <=0)"
   ]
  },
  {
   "cell_type": "markdown",
   "metadata": {},
   "source": [
    "There are 8478 movies have negative profit (they field to make profit)"
   ]
  },
  {
   "cell_type": "markdown",
   "metadata": {},
   "source": [
    "### Data Cleaning\n",
    "\n",
    "After exploring our dataset we notice some points to keep in mind for cleaning our data ( wrangling ):\n",
    "\n",
    "+ drop unnecessary columns \n",
    "+ modify release_date to date formate\n",
    "+ drop 0s values\n",
    "+ delete duplicated values\n",
    "+ get rid of negative profit"
   ]
  },
  {
   "cell_type": "code",
   "execution_count": 13,
   "metadata": {},
   "outputs": [],
   "source": [
    "# After discussing the structure of the data and any problems that need to be\n",
    "#   cleaned, perform those cleaning steps in the second part of this section."
   ]
  },
  {
   "cell_type": "markdown",
   "metadata": {},
   "source": [
    "###### drop unnecessary columns"
   ]
  },
  {
   "cell_type": "code",
   "execution_count": 14,
   "metadata": {},
   "outputs": [],
   "source": [
    "# drop unnecessary columns such as id, imdb_id ,popularity, tagline, etc\n",
    "\n",
    "#list for unnecessary columns\n",
    "delete_col = ['id','imdb_id','popularity','homepage','tagline','keywords','overview','production_companies','budget_adj','revenue_adj','vote_average','vote_count']\n",
    "\n",
    "df.drop(columns=delete_col,axis=1,inplace=True)"
   ]
  },
  {
   "cell_type": "code",
   "execution_count": 15,
   "metadata": {},
   "outputs": [
    {
     "data": {
      "text/html": [
       "<div>\n",
       "<style scoped>\n",
       "    .dataframe tbody tr th:only-of-type {\n",
       "        vertical-align: middle;\n",
       "    }\n",
       "\n",
       "    .dataframe tbody tr th {\n",
       "        vertical-align: top;\n",
       "    }\n",
       "\n",
       "    .dataframe thead th {\n",
       "        text-align: right;\n",
       "    }\n",
       "</style>\n",
       "<table border=\"1\" class=\"dataframe\">\n",
       "  <thead>\n",
       "    <tr style=\"text-align: right;\">\n",
       "      <th></th>\n",
       "      <th>profit</th>\n",
       "      <th>budget</th>\n",
       "      <th>revenue</th>\n",
       "      <th>original_title</th>\n",
       "      <th>cast</th>\n",
       "      <th>director</th>\n",
       "      <th>runtime</th>\n",
       "      <th>genres</th>\n",
       "      <th>release_date</th>\n",
       "      <th>release_year</th>\n",
       "    </tr>\n",
       "  </thead>\n",
       "  <tbody>\n",
       "    <tr>\n",
       "      <th>0</th>\n",
       "      <td>-1363528810</td>\n",
       "      <td>150000000</td>\n",
       "      <td>1513528810</td>\n",
       "      <td>Jurassic World</td>\n",
       "      <td>Chris Pratt|Bryce Dallas Howard|Irrfan Khan|Vi...</td>\n",
       "      <td>Colin Trevorrow</td>\n",
       "      <td>124</td>\n",
       "      <td>Action|Adventure|Science Fiction|Thriller</td>\n",
       "      <td>6/9/15</td>\n",
       "      <td>2015</td>\n",
       "    </tr>\n",
       "    <tr>\n",
       "      <th>1</th>\n",
       "      <td>-228436354</td>\n",
       "      <td>150000000</td>\n",
       "      <td>378436354</td>\n",
       "      <td>Mad Max: Fury Road</td>\n",
       "      <td>Tom Hardy|Charlize Theron|Hugh Keays-Byrne|Nic...</td>\n",
       "      <td>George Miller</td>\n",
       "      <td>120</td>\n",
       "      <td>Action|Adventure|Science Fiction|Thriller</td>\n",
       "      <td>5/13/15</td>\n",
       "      <td>2015</td>\n",
       "    </tr>\n",
       "    <tr>\n",
       "      <th>2</th>\n",
       "      <td>-185238201</td>\n",
       "      <td>110000000</td>\n",
       "      <td>295238201</td>\n",
       "      <td>Insurgent</td>\n",
       "      <td>Shailene Woodley|Theo James|Kate Winslet|Ansel...</td>\n",
       "      <td>Robert Schwentke</td>\n",
       "      <td>119</td>\n",
       "      <td>Adventure|Science Fiction|Thriller</td>\n",
       "      <td>3/18/15</td>\n",
       "      <td>2015</td>\n",
       "    </tr>\n",
       "    <tr>\n",
       "      <th>3</th>\n",
       "      <td>-1868178225</td>\n",
       "      <td>200000000</td>\n",
       "      <td>2068178225</td>\n",
       "      <td>Star Wars: The Force Awakens</td>\n",
       "      <td>Harrison Ford|Mark Hamill|Carrie Fisher|Adam D...</td>\n",
       "      <td>J.J. Abrams</td>\n",
       "      <td>136</td>\n",
       "      <td>Action|Adventure|Science Fiction|Fantasy</td>\n",
       "      <td>12/15/15</td>\n",
       "      <td>2015</td>\n",
       "    </tr>\n",
       "    <tr>\n",
       "      <th>4</th>\n",
       "      <td>-1316249360</td>\n",
       "      <td>190000000</td>\n",
       "      <td>1506249360</td>\n",
       "      <td>Furious 7</td>\n",
       "      <td>Vin Diesel|Paul Walker|Jason Statham|Michelle ...</td>\n",
       "      <td>James Wan</td>\n",
       "      <td>137</td>\n",
       "      <td>Action|Crime|Thriller</td>\n",
       "      <td>4/1/15</td>\n",
       "      <td>2015</td>\n",
       "    </tr>\n",
       "  </tbody>\n",
       "</table>\n",
       "</div>"
      ],
      "text/plain": [
       "       profit     budget     revenue                original_title  \\\n",
       "0 -1363528810  150000000  1513528810                Jurassic World   \n",
       "1  -228436354  150000000   378436354            Mad Max: Fury Road   \n",
       "2  -185238201  110000000   295238201                     Insurgent   \n",
       "3 -1868178225  200000000  2068178225  Star Wars: The Force Awakens   \n",
       "4 -1316249360  190000000  1506249360                     Furious 7   \n",
       "\n",
       "                                                cast          director  \\\n",
       "0  Chris Pratt|Bryce Dallas Howard|Irrfan Khan|Vi...   Colin Trevorrow   \n",
       "1  Tom Hardy|Charlize Theron|Hugh Keays-Byrne|Nic...     George Miller   \n",
       "2  Shailene Woodley|Theo James|Kate Winslet|Ansel...  Robert Schwentke   \n",
       "3  Harrison Ford|Mark Hamill|Carrie Fisher|Adam D...       J.J. Abrams   \n",
       "4  Vin Diesel|Paul Walker|Jason Statham|Michelle ...         James Wan   \n",
       "\n",
       "   runtime                                     genres release_date  \\\n",
       "0      124  Action|Adventure|Science Fiction|Thriller       6/9/15   \n",
       "1      120  Action|Adventure|Science Fiction|Thriller      5/13/15   \n",
       "2      119         Adventure|Science Fiction|Thriller      3/18/15   \n",
       "3      136   Action|Adventure|Science Fiction|Fantasy     12/15/15   \n",
       "4      137                      Action|Crime|Thriller       4/1/15   \n",
       "\n",
       "   release_year  \n",
       "0          2015  \n",
       "1          2015  \n",
       "2          2015  \n",
       "3          2015  \n",
       "4          2015  "
      ]
     },
     "execution_count": 15,
     "metadata": {},
     "output_type": "execute_result"
    }
   ],
   "source": [
    "# check dataset after droping unnecessary columns\n",
    "df.head()"
   ]
  },
  {
   "cell_type": "markdown",
   "metadata": {},
   "source": [
    "###### modify release_date to date formate\n"
   ]
  },
  {
   "cell_type": "code",
   "execution_count": 16,
   "metadata": {},
   "outputs": [
    {
     "data": {
      "text/html": [
       "<div>\n",
       "<style scoped>\n",
       "    .dataframe tbody tr th:only-of-type {\n",
       "        vertical-align: middle;\n",
       "    }\n",
       "\n",
       "    .dataframe tbody tr th {\n",
       "        vertical-align: top;\n",
       "    }\n",
       "\n",
       "    .dataframe thead th {\n",
       "        text-align: right;\n",
       "    }\n",
       "</style>\n",
       "<table border=\"1\" class=\"dataframe\">\n",
       "  <thead>\n",
       "    <tr style=\"text-align: right;\">\n",
       "      <th></th>\n",
       "      <th>profit</th>\n",
       "      <th>budget</th>\n",
       "      <th>revenue</th>\n",
       "      <th>original_title</th>\n",
       "      <th>cast</th>\n",
       "      <th>director</th>\n",
       "      <th>runtime</th>\n",
       "      <th>genres</th>\n",
       "      <th>release_date</th>\n",
       "      <th>release_year</th>\n",
       "    </tr>\n",
       "  </thead>\n",
       "  <tbody>\n",
       "    <tr>\n",
       "      <th>0</th>\n",
       "      <td>-1363528810</td>\n",
       "      <td>150000000</td>\n",
       "      <td>1513528810</td>\n",
       "      <td>Jurassic World</td>\n",
       "      <td>Chris Pratt|Bryce Dallas Howard|Irrfan Khan|Vi...</td>\n",
       "      <td>Colin Trevorrow</td>\n",
       "      <td>124</td>\n",
       "      <td>Action|Adventure|Science Fiction|Thriller</td>\n",
       "      <td>2015-06-09</td>\n",
       "      <td>2015</td>\n",
       "    </tr>\n",
       "    <tr>\n",
       "      <th>1</th>\n",
       "      <td>-228436354</td>\n",
       "      <td>150000000</td>\n",
       "      <td>378436354</td>\n",
       "      <td>Mad Max: Fury Road</td>\n",
       "      <td>Tom Hardy|Charlize Theron|Hugh Keays-Byrne|Nic...</td>\n",
       "      <td>George Miller</td>\n",
       "      <td>120</td>\n",
       "      <td>Action|Adventure|Science Fiction|Thriller</td>\n",
       "      <td>2015-05-13</td>\n",
       "      <td>2015</td>\n",
       "    </tr>\n",
       "    <tr>\n",
       "      <th>2</th>\n",
       "      <td>-185238201</td>\n",
       "      <td>110000000</td>\n",
       "      <td>295238201</td>\n",
       "      <td>Insurgent</td>\n",
       "      <td>Shailene Woodley|Theo James|Kate Winslet|Ansel...</td>\n",
       "      <td>Robert Schwentke</td>\n",
       "      <td>119</td>\n",
       "      <td>Adventure|Science Fiction|Thriller</td>\n",
       "      <td>2015-03-18</td>\n",
       "      <td>2015</td>\n",
       "    </tr>\n",
       "    <tr>\n",
       "      <th>3</th>\n",
       "      <td>-1868178225</td>\n",
       "      <td>200000000</td>\n",
       "      <td>2068178225</td>\n",
       "      <td>Star Wars: The Force Awakens</td>\n",
       "      <td>Harrison Ford|Mark Hamill|Carrie Fisher|Adam D...</td>\n",
       "      <td>J.J. Abrams</td>\n",
       "      <td>136</td>\n",
       "      <td>Action|Adventure|Science Fiction|Fantasy</td>\n",
       "      <td>2015-12-15</td>\n",
       "      <td>2015</td>\n",
       "    </tr>\n",
       "    <tr>\n",
       "      <th>4</th>\n",
       "      <td>-1316249360</td>\n",
       "      <td>190000000</td>\n",
       "      <td>1506249360</td>\n",
       "      <td>Furious 7</td>\n",
       "      <td>Vin Diesel|Paul Walker|Jason Statham|Michelle ...</td>\n",
       "      <td>James Wan</td>\n",
       "      <td>137</td>\n",
       "      <td>Action|Crime|Thriller</td>\n",
       "      <td>2015-04-01</td>\n",
       "      <td>2015</td>\n",
       "    </tr>\n",
       "  </tbody>\n",
       "</table>\n",
       "</div>"
      ],
      "text/plain": [
       "       profit     budget     revenue                original_title  \\\n",
       "0 -1363528810  150000000  1513528810                Jurassic World   \n",
       "1  -228436354  150000000   378436354            Mad Max: Fury Road   \n",
       "2  -185238201  110000000   295238201                     Insurgent   \n",
       "3 -1868178225  200000000  2068178225  Star Wars: The Force Awakens   \n",
       "4 -1316249360  190000000  1506249360                     Furious 7   \n",
       "\n",
       "                                                cast          director  \\\n",
       "0  Chris Pratt|Bryce Dallas Howard|Irrfan Khan|Vi...   Colin Trevorrow   \n",
       "1  Tom Hardy|Charlize Theron|Hugh Keays-Byrne|Nic...     George Miller   \n",
       "2  Shailene Woodley|Theo James|Kate Winslet|Ansel...  Robert Schwentke   \n",
       "3  Harrison Ford|Mark Hamill|Carrie Fisher|Adam D...       J.J. Abrams   \n",
       "4  Vin Diesel|Paul Walker|Jason Statham|Michelle ...         James Wan   \n",
       "\n",
       "   runtime                                     genres release_date  \\\n",
       "0      124  Action|Adventure|Science Fiction|Thriller   2015-06-09   \n",
       "1      120  Action|Adventure|Science Fiction|Thriller   2015-05-13   \n",
       "2      119         Adventure|Science Fiction|Thriller   2015-03-18   \n",
       "3      136   Action|Adventure|Science Fiction|Fantasy   2015-12-15   \n",
       "4      137                      Action|Crime|Thriller   2015-04-01   \n",
       "\n",
       "   release_year  \n",
       "0          2015  \n",
       "1          2015  \n",
       "2          2015  \n",
       "3          2015  \n",
       "4          2015  "
      ]
     },
     "execution_count": 16,
     "metadata": {},
     "output_type": "execute_result"
    }
   ],
   "source": [
    "# change the datetume of release date \n",
    "df.release_date = pd.to_datetime(df.release_date)\n",
    "\n",
    "#check\n",
    "df.head()"
   ]
  },
  {
   "cell_type": "markdown",
   "metadata": {},
   "source": [
    "###### drop 0s values"
   ]
  },
  {
   "cell_type": "code",
   "execution_count": 17,
   "metadata": {},
   "outputs": [],
   "source": [
    "# replace the 0s values of revenue and budget to NAN \n",
    "# then drop by nan values \n",
    "\n",
    "#revenue\n",
    "df.revenue.replace(0, np.NAN, inplace=True)"
   ]
  },
  {
   "cell_type": "code",
   "execution_count": 18,
   "metadata": {},
   "outputs": [],
   "source": [
    "#budget\n",
    "df.budget.replace(0, np.NAN, inplace=True)"
   ]
  },
  {
   "cell_type": "code",
   "execution_count": 19,
   "metadata": {},
   "outputs": [],
   "source": [
    "#drop by nan values from revenue and budget\n",
    "df.dropna(subset=['revenue','budget'],inplace=True)"
   ]
  },
  {
   "cell_type": "code",
   "execution_count": 20,
   "metadata": {},
   "outputs": [
    {
     "data": {
      "text/plain": [
       "(0, 0)"
      ]
     },
     "execution_count": 20,
     "metadata": {},
     "output_type": "execute_result"
    }
   ],
   "source": [
    "# check for 0s values\n",
    "sum(df.revenue == 0), sum(df.revenue == 0)"
   ]
  },
  {
   "cell_type": "code",
   "execution_count": 21,
   "metadata": {},
   "outputs": [
    {
     "data": {
      "text/plain": [
       "(0, 0)"
      ]
     },
     "execution_count": 21,
     "metadata": {},
     "output_type": "execute_result"
    }
   ],
   "source": [
    "# check for nan values\n",
    "df.revenue.isna().sum() , df.budget.isna().sum()"
   ]
  },
  {
   "cell_type": "markdown",
   "metadata": {},
   "source": [
    "###### delete duplicated values"
   ]
  },
  {
   "cell_type": "code",
   "execution_count": 22,
   "metadata": {},
   "outputs": [],
   "source": [
    "# using drop_duplicates\n",
    "df.drop_duplicates(inplace=True)"
   ]
  },
  {
   "cell_type": "code",
   "execution_count": 23,
   "metadata": {},
   "outputs": [
    {
     "data": {
      "text/plain": [
       "0"
      ]
     },
     "execution_count": 23,
     "metadata": {},
     "output_type": "execute_result"
    }
   ],
   "source": [
    "#check\n",
    "df.duplicated().sum()"
   ]
  },
  {
   "cell_type": "code",
   "execution_count": 24,
   "metadata": {},
   "outputs": [
    {
     "name": "stdout",
     "output_type": "stream",
     "text": [
      "<class 'pandas.core.frame.DataFrame'>\n",
      "Int64Index: 3854 entries, 0 to 10848\n",
      "Data columns (total 10 columns):\n",
      " #   Column          Non-Null Count  Dtype         \n",
      "---  ------          --------------  -----         \n",
      " 0   profit          3854 non-null   int64         \n",
      " 1   budget          3854 non-null   float64       \n",
      " 2   revenue         3854 non-null   float64       \n",
      " 3   original_title  3854 non-null   object        \n",
      " 4   cast            3850 non-null   object        \n",
      " 5   director        3853 non-null   object        \n",
      " 6   runtime         3854 non-null   int64         \n",
      " 7   genres          3854 non-null   object        \n",
      " 8   release_date    3854 non-null   datetime64[ns]\n",
      " 9   release_year    3854 non-null   int64         \n",
      "dtypes: datetime64[ns](1), float64(2), int64(3), object(4)\n",
      "memory usage: 331.2+ KB\n"
     ]
    }
   ],
   "source": [
    "df.info()"
   ]
  },
  {
   "cell_type": "code",
   "execution_count": 25,
   "metadata": {},
   "outputs": [
    {
     "data": {
      "text/plain": [
       "(3854, 10)"
      ]
     },
     "execution_count": 25,
     "metadata": {},
     "output_type": "execute_result"
    }
   ],
   "source": [
    "df.shape"
   ]
  },
  {
   "cell_type": "markdown",
   "metadata": {},
   "source": [
    "###### here our data has 3854 rows & 10 columns from 10866 rows & 21 columns after cleaning it"
   ]
  },
  {
   "cell_type": "code",
   "execution_count": 26,
   "metadata": {},
   "outputs": [
    {
     "data": {
      "text/html": [
       "<div>\n",
       "<style scoped>\n",
       "    .dataframe tbody tr th:only-of-type {\n",
       "        vertical-align: middle;\n",
       "    }\n",
       "\n",
       "    .dataframe tbody tr th {\n",
       "        vertical-align: top;\n",
       "    }\n",
       "\n",
       "    .dataframe thead th {\n",
       "        text-align: right;\n",
       "    }\n",
       "</style>\n",
       "<table border=\"1\" class=\"dataframe\">\n",
       "  <thead>\n",
       "    <tr style=\"text-align: right;\">\n",
       "      <th></th>\n",
       "      <th>profit</th>\n",
       "      <th>budget</th>\n",
       "      <th>revenue</th>\n",
       "      <th>original_title</th>\n",
       "      <th>cast</th>\n",
       "      <th>director</th>\n",
       "      <th>runtime</th>\n",
       "      <th>genres</th>\n",
       "      <th>release_date</th>\n",
       "      <th>release_year</th>\n",
       "    </tr>\n",
       "  </thead>\n",
       "  <tbody>\n",
       "    <tr>\n",
       "      <th>0</th>\n",
       "      <td>-1363528810</td>\n",
       "      <td>150000000.0</td>\n",
       "      <td>1.513529e+09</td>\n",
       "      <td>Jurassic World</td>\n",
       "      <td>Chris Pratt|Bryce Dallas Howard|Irrfan Khan|Vi...</td>\n",
       "      <td>Colin Trevorrow</td>\n",
       "      <td>124</td>\n",
       "      <td>Action|Adventure|Science Fiction|Thriller</td>\n",
       "      <td>2015-06-09</td>\n",
       "      <td>2015</td>\n",
       "    </tr>\n",
       "    <tr>\n",
       "      <th>1</th>\n",
       "      <td>-228436354</td>\n",
       "      <td>150000000.0</td>\n",
       "      <td>3.784364e+08</td>\n",
       "      <td>Mad Max: Fury Road</td>\n",
       "      <td>Tom Hardy|Charlize Theron|Hugh Keays-Byrne|Nic...</td>\n",
       "      <td>George Miller</td>\n",
       "      <td>120</td>\n",
       "      <td>Action|Adventure|Science Fiction|Thriller</td>\n",
       "      <td>2015-05-13</td>\n",
       "      <td>2015</td>\n",
       "    </tr>\n",
       "    <tr>\n",
       "      <th>2</th>\n",
       "      <td>-185238201</td>\n",
       "      <td>110000000.0</td>\n",
       "      <td>2.952382e+08</td>\n",
       "      <td>Insurgent</td>\n",
       "      <td>Shailene Woodley|Theo James|Kate Winslet|Ansel...</td>\n",
       "      <td>Robert Schwentke</td>\n",
       "      <td>119</td>\n",
       "      <td>Adventure|Science Fiction|Thriller</td>\n",
       "      <td>2015-03-18</td>\n",
       "      <td>2015</td>\n",
       "    </tr>\n",
       "    <tr>\n",
       "      <th>3</th>\n",
       "      <td>-1868178225</td>\n",
       "      <td>200000000.0</td>\n",
       "      <td>2.068178e+09</td>\n",
       "      <td>Star Wars: The Force Awakens</td>\n",
       "      <td>Harrison Ford|Mark Hamill|Carrie Fisher|Adam D...</td>\n",
       "      <td>J.J. Abrams</td>\n",
       "      <td>136</td>\n",
       "      <td>Action|Adventure|Science Fiction|Fantasy</td>\n",
       "      <td>2015-12-15</td>\n",
       "      <td>2015</td>\n",
       "    </tr>\n",
       "    <tr>\n",
       "      <th>4</th>\n",
       "      <td>-1316249360</td>\n",
       "      <td>190000000.0</td>\n",
       "      <td>1.506249e+09</td>\n",
       "      <td>Furious 7</td>\n",
       "      <td>Vin Diesel|Paul Walker|Jason Statham|Michelle ...</td>\n",
       "      <td>James Wan</td>\n",
       "      <td>137</td>\n",
       "      <td>Action|Crime|Thriller</td>\n",
       "      <td>2015-04-01</td>\n",
       "      <td>2015</td>\n",
       "    </tr>\n",
       "  </tbody>\n",
       "</table>\n",
       "</div>"
      ],
      "text/plain": [
       "       profit       budget       revenue                original_title  \\\n",
       "0 -1363528810  150000000.0  1.513529e+09                Jurassic World   \n",
       "1  -228436354  150000000.0  3.784364e+08            Mad Max: Fury Road   \n",
       "2  -185238201  110000000.0  2.952382e+08                     Insurgent   \n",
       "3 -1868178225  200000000.0  2.068178e+09  Star Wars: The Force Awakens   \n",
       "4 -1316249360  190000000.0  1.506249e+09                     Furious 7   \n",
       "\n",
       "                                                cast          director  \\\n",
       "0  Chris Pratt|Bryce Dallas Howard|Irrfan Khan|Vi...   Colin Trevorrow   \n",
       "1  Tom Hardy|Charlize Theron|Hugh Keays-Byrne|Nic...     George Miller   \n",
       "2  Shailene Woodley|Theo James|Kate Winslet|Ansel...  Robert Schwentke   \n",
       "3  Harrison Ford|Mark Hamill|Carrie Fisher|Adam D...       J.J. Abrams   \n",
       "4  Vin Diesel|Paul Walker|Jason Statham|Michelle ...         James Wan   \n",
       "\n",
       "   runtime                                     genres release_date  \\\n",
       "0      124  Action|Adventure|Science Fiction|Thriller   2015-06-09   \n",
       "1      120  Action|Adventure|Science Fiction|Thriller   2015-05-13   \n",
       "2      119         Adventure|Science Fiction|Thriller   2015-03-18   \n",
       "3      136   Action|Adventure|Science Fiction|Fantasy   2015-12-15   \n",
       "4      137                      Action|Crime|Thriller   2015-04-01   \n",
       "\n",
       "   release_year  \n",
       "0          2015  \n",
       "1          2015  \n",
       "2          2015  \n",
       "3          2015  \n",
       "4          2015  "
      ]
     },
     "execution_count": 26,
     "metadata": {},
     "output_type": "execute_result"
    }
   ],
   "source": [
    "df.head()"
   ]
  },
  {
   "cell_type": "markdown",
   "metadata": {},
   "source": [
    "###### get rid of negative profit"
   ]
  },
  {
   "cell_type": "code",
   "execution_count": 27,
   "metadata": {},
   "outputs": [
    {
     "data": {
      "text/plain": [
       "0"
      ]
     },
     "execution_count": 27,
     "metadata": {},
     "output_type": "execute_result"
    }
   ],
   "source": [
    "# get rid of negative profit\n",
    "# we can take the succesed movies (success to make profit) in another dataframe \n",
    "# called df_s short for dataframe success\n",
    "# we wil use query\n",
    "\n",
    "df_s = df.query(\"profit > 0\")\n",
    "\n",
    "# Check\n",
    "sum(df_s.profit <= 0)"
   ]
  },
  {
   "cell_type": "code",
   "execution_count": 28,
   "metadata": {},
   "outputs": [
    {
     "data": {
      "text/plain": [
       "(1072, 10)"
      ]
     },
     "execution_count": 28,
     "metadata": {},
     "output_type": "execute_result"
    }
   ],
   "source": [
    "df_s.shape"
   ]
  },
  {
   "cell_type": "markdown",
   "metadata": {},
   "source": [
    "###### we have now 1072 movies have made profit more than $0 form total 10866 movies "
   ]
  },
  {
   "cell_type": "code",
   "execution_count": 29,
   "metadata": {},
   "outputs": [
    {
     "data": {
      "text/html": [
       "<div>\n",
       "<style scoped>\n",
       "    .dataframe tbody tr th:only-of-type {\n",
       "        vertical-align: middle;\n",
       "    }\n",
       "\n",
       "    .dataframe tbody tr th {\n",
       "        vertical-align: top;\n",
       "    }\n",
       "\n",
       "    .dataframe thead th {\n",
       "        text-align: right;\n",
       "    }\n",
       "</style>\n",
       "<table border=\"1\" class=\"dataframe\">\n",
       "  <thead>\n",
       "    <tr style=\"text-align: right;\">\n",
       "      <th></th>\n",
       "      <th>profit</th>\n",
       "      <th>budget</th>\n",
       "      <th>revenue</th>\n",
       "      <th>original_title</th>\n",
       "      <th>cast</th>\n",
       "      <th>director</th>\n",
       "      <th>runtime</th>\n",
       "      <th>genres</th>\n",
       "      <th>release_date</th>\n",
       "      <th>release_year</th>\n",
       "    </tr>\n",
       "  </thead>\n",
       "  <tbody>\n",
       "    <tr>\n",
       "      <th>57</th>\n",
       "      <td>29581440</td>\n",
       "      <td>60000000.0</td>\n",
       "      <td>30418560.0</td>\n",
       "      <td>Mortdecai</td>\n",
       "      <td>Johnny Depp|Gwyneth Paltrow|Ewan McGregor|Paul...</td>\n",
       "      <td>David Koepp</td>\n",
       "      <td>106</td>\n",
       "      <td>Comedy|Adventure</td>\n",
       "      <td>2015-01-21</td>\n",
       "      <td>2015</td>\n",
       "    </tr>\n",
       "    <tr>\n",
       "      <th>59</th>\n",
       "      <td>52247060</td>\n",
       "      <td>70000000.0</td>\n",
       "      <td>17752940.0</td>\n",
       "      <td>Blackhat</td>\n",
       "      <td>Chris Hemsworth|Leehom Wang|Tang Wei|Viola Dav...</td>\n",
       "      <td>Michael Mann</td>\n",
       "      <td>133</td>\n",
       "      <td>Mystery|Crime|Action|Thriller|Drama</td>\n",
       "      <td>2015-01-13</td>\n",
       "      <td>2015</td>\n",
       "    </tr>\n",
       "    <tr>\n",
       "      <th>66</th>\n",
       "      <td>6179242</td>\n",
       "      <td>100000000.0</td>\n",
       "      <td>93820758.0</td>\n",
       "      <td>In the Heart of the Sea</td>\n",
       "      <td>Chris Hemsworth|Benjamin Walker|Cillian Murphy...</td>\n",
       "      <td>Ron Howard</td>\n",
       "      <td>122</td>\n",
       "      <td>Thriller|Drama|Adventure|Action|History</td>\n",
       "      <td>2015-11-20</td>\n",
       "      <td>2015</td>\n",
       "    </tr>\n",
       "    <tr>\n",
       "      <th>73</th>\n",
       "      <td>21611680</td>\n",
       "      <td>150000000.0</td>\n",
       "      <td>128388320.0</td>\n",
       "      <td>Pan</td>\n",
       "      <td>Levi Miller|Garrett Hedlund|Hugh Jackman|Roone...</td>\n",
       "      <td>Joe Wright</td>\n",
       "      <td>111</td>\n",
       "      <td>Adventure|Family|Fantasy</td>\n",
       "      <td>2015-09-24</td>\n",
       "      <td>2015</td>\n",
       "    </tr>\n",
       "    <tr>\n",
       "      <th>84</th>\n",
       "      <td>9136685</td>\n",
       "      <td>11000000.0</td>\n",
       "      <td>1863315.0</td>\n",
       "      <td>Tracers</td>\n",
       "      <td>Marie Avgeropoulos|Taylor Lautner|Adam Rayner|...</td>\n",
       "      <td>Daniel Benmayor</td>\n",
       "      <td>94</td>\n",
       "      <td>Action|Crime|Drama</td>\n",
       "      <td>2015-01-15</td>\n",
       "      <td>2015</td>\n",
       "    </tr>\n",
       "  </tbody>\n",
       "</table>\n",
       "</div>"
      ],
      "text/plain": [
       "      profit       budget      revenue           original_title  \\\n",
       "57  29581440   60000000.0   30418560.0                Mortdecai   \n",
       "59  52247060   70000000.0   17752940.0                 Blackhat   \n",
       "66   6179242  100000000.0   93820758.0  In the Heart of the Sea   \n",
       "73  21611680  150000000.0  128388320.0                      Pan   \n",
       "84   9136685   11000000.0    1863315.0                  Tracers   \n",
       "\n",
       "                                                 cast         director  \\\n",
       "57  Johnny Depp|Gwyneth Paltrow|Ewan McGregor|Paul...      David Koepp   \n",
       "59  Chris Hemsworth|Leehom Wang|Tang Wei|Viola Dav...     Michael Mann   \n",
       "66  Chris Hemsworth|Benjamin Walker|Cillian Murphy...       Ron Howard   \n",
       "73  Levi Miller|Garrett Hedlund|Hugh Jackman|Roone...       Joe Wright   \n",
       "84  Marie Avgeropoulos|Taylor Lautner|Adam Rayner|...  Daniel Benmayor   \n",
       "\n",
       "    runtime                                   genres release_date  \\\n",
       "57      106                         Comedy|Adventure   2015-01-21   \n",
       "59      133      Mystery|Crime|Action|Thriller|Drama   2015-01-13   \n",
       "66      122  Thriller|Drama|Adventure|Action|History   2015-11-20   \n",
       "73      111                 Adventure|Family|Fantasy   2015-09-24   \n",
       "84       94                       Action|Crime|Drama   2015-01-15   \n",
       "\n",
       "    release_year  \n",
       "57          2015  \n",
       "59          2015  \n",
       "66          2015  \n",
       "73          2015  \n",
       "84          2015  "
      ]
     },
     "execution_count": 29,
     "metadata": {},
     "output_type": "execute_result"
    }
   ],
   "source": [
    "df_s.head()"
   ]
  },
  {
   "cell_type": "code",
   "execution_count": 30,
   "metadata": {},
   "outputs": [
    {
     "data": {
      "text/html": [
       "<div>\n",
       "<style scoped>\n",
       "    .dataframe tbody tr th:only-of-type {\n",
       "        vertical-align: middle;\n",
       "    }\n",
       "\n",
       "    .dataframe tbody tr th {\n",
       "        vertical-align: top;\n",
       "    }\n",
       "\n",
       "    .dataframe thead th {\n",
       "        text-align: right;\n",
       "    }\n",
       "</style>\n",
       "<table border=\"1\" class=\"dataframe\">\n",
       "  <thead>\n",
       "    <tr style=\"text-align: right;\">\n",
       "      <th></th>\n",
       "      <th>profit</th>\n",
       "      <th>budget</th>\n",
       "      <th>revenue</th>\n",
       "      <th>original_title</th>\n",
       "      <th>cast</th>\n",
       "      <th>director</th>\n",
       "      <th>runtime</th>\n",
       "      <th>genres</th>\n",
       "      <th>release_date</th>\n",
       "      <th>release_year</th>\n",
       "    </tr>\n",
       "  </thead>\n",
       "  <tbody>\n",
       "    <tr>\n",
       "      <th>1</th>\n",
       "      <td>29581440</td>\n",
       "      <td>60000000.0</td>\n",
       "      <td>30418560.0</td>\n",
       "      <td>Mortdecai</td>\n",
       "      <td>Johnny Depp|Gwyneth Paltrow|Ewan McGregor|Paul...</td>\n",
       "      <td>David Koepp</td>\n",
       "      <td>106</td>\n",
       "      <td>Comedy|Adventure</td>\n",
       "      <td>2015-01-21</td>\n",
       "      <td>2015</td>\n",
       "    </tr>\n",
       "    <tr>\n",
       "      <th>2</th>\n",
       "      <td>52247060</td>\n",
       "      <td>70000000.0</td>\n",
       "      <td>17752940.0</td>\n",
       "      <td>Blackhat</td>\n",
       "      <td>Chris Hemsworth|Leehom Wang|Tang Wei|Viola Dav...</td>\n",
       "      <td>Michael Mann</td>\n",
       "      <td>133</td>\n",
       "      <td>Mystery|Crime|Action|Thriller|Drama</td>\n",
       "      <td>2015-01-13</td>\n",
       "      <td>2015</td>\n",
       "    </tr>\n",
       "    <tr>\n",
       "      <th>3</th>\n",
       "      <td>6179242</td>\n",
       "      <td>100000000.0</td>\n",
       "      <td>93820758.0</td>\n",
       "      <td>In the Heart of the Sea</td>\n",
       "      <td>Chris Hemsworth|Benjamin Walker|Cillian Murphy...</td>\n",
       "      <td>Ron Howard</td>\n",
       "      <td>122</td>\n",
       "      <td>Thriller|Drama|Adventure|Action|History</td>\n",
       "      <td>2015-11-20</td>\n",
       "      <td>2015</td>\n",
       "    </tr>\n",
       "    <tr>\n",
       "      <th>4</th>\n",
       "      <td>21611680</td>\n",
       "      <td>150000000.0</td>\n",
       "      <td>128388320.0</td>\n",
       "      <td>Pan</td>\n",
       "      <td>Levi Miller|Garrett Hedlund|Hugh Jackman|Roone...</td>\n",
       "      <td>Joe Wright</td>\n",
       "      <td>111</td>\n",
       "      <td>Adventure|Family|Fantasy</td>\n",
       "      <td>2015-09-24</td>\n",
       "      <td>2015</td>\n",
       "    </tr>\n",
       "    <tr>\n",
       "      <th>5</th>\n",
       "      <td>9136685</td>\n",
       "      <td>11000000.0</td>\n",
       "      <td>1863315.0</td>\n",
       "      <td>Tracers</td>\n",
       "      <td>Marie Avgeropoulos|Taylor Lautner|Adam Rayner|...</td>\n",
       "      <td>Daniel Benmayor</td>\n",
       "      <td>94</td>\n",
       "      <td>Action|Crime|Drama</td>\n",
       "      <td>2015-01-15</td>\n",
       "      <td>2015</td>\n",
       "    </tr>\n",
       "  </tbody>\n",
       "</table>\n",
       "</div>"
      ],
      "text/plain": [
       "     profit       budget      revenue           original_title  \\\n",
       "1  29581440   60000000.0   30418560.0                Mortdecai   \n",
       "2  52247060   70000000.0   17752940.0                 Blackhat   \n",
       "3   6179242  100000000.0   93820758.0  In the Heart of the Sea   \n",
       "4  21611680  150000000.0  128388320.0                      Pan   \n",
       "5   9136685   11000000.0    1863315.0                  Tracers   \n",
       "\n",
       "                                                cast         director  \\\n",
       "1  Johnny Depp|Gwyneth Paltrow|Ewan McGregor|Paul...      David Koepp   \n",
       "2  Chris Hemsworth|Leehom Wang|Tang Wei|Viola Dav...     Michael Mann   \n",
       "3  Chris Hemsworth|Benjamin Walker|Cillian Murphy...       Ron Howard   \n",
       "4  Levi Miller|Garrett Hedlund|Hugh Jackman|Roone...       Joe Wright   \n",
       "5  Marie Avgeropoulos|Taylor Lautner|Adam Rayner|...  Daniel Benmayor   \n",
       "\n",
       "   runtime                                   genres release_date  release_year  \n",
       "1      106                         Comedy|Adventure   2015-01-21          2015  \n",
       "2      133      Mystery|Crime|Action|Thriller|Drama   2015-01-13          2015  \n",
       "3      122  Thriller|Drama|Adventure|Action|History   2015-11-20          2015  \n",
       "4      111                 Adventure|Family|Fantasy   2015-09-24          2015  \n",
       "5       94                       Action|Crime|Drama   2015-01-15          2015  "
      ]
     },
     "execution_count": 30,
     "metadata": {},
     "output_type": "execute_result"
    }
   ],
   "source": [
    "# reindexing the data frame\n",
    "# start from 1 instead of 0\n",
    "df_s.index = range(len(df_s))\n",
    "df_s.index = df_s.index +1\n",
    "#check\n",
    "df_s.head()"
   ]
  },
  {
   "cell_type": "markdown",
   "metadata": {},
   "source": [
    "<a id='eda'></a>\n",
    "## Exploratory Data Analysis\n",
    "\n",
    "### Question 1 Which genres are most popular from year to year?\n",
    "we'll determine the most popular genres by the highest movie profit of the year & the highest movie revenue of the year "
   ]
  },
  {
   "cell_type": "code",
   "execution_count": 31,
   "metadata": {},
   "outputs": [
    {
     "data": {
      "text/html": [
       "<div>\n",
       "<style scoped>\n",
       "    .dataframe tbody tr th:only-of-type {\n",
       "        vertical-align: middle;\n",
       "    }\n",
       "\n",
       "    .dataframe tbody tr th {\n",
       "        vertical-align: top;\n",
       "    }\n",
       "\n",
       "    .dataframe thead th {\n",
       "        text-align: right;\n",
       "    }\n",
       "</style>\n",
       "<table border=\"1\" class=\"dataframe\">\n",
       "  <thead>\n",
       "    <tr style=\"text-align: right;\">\n",
       "      <th></th>\n",
       "      <th>genres</th>\n",
       "      <th>revenue</th>\n",
       "      <th>profit</th>\n",
       "    </tr>\n",
       "    <tr>\n",
       "      <th>release_year</th>\n",
       "      <th></th>\n",
       "      <th></th>\n",
       "      <th></th>\n",
       "    </tr>\n",
       "  </thead>\n",
       "  <tbody>\n",
       "    <tr>\n",
       "      <th>1961</th>\n",
       "      <td>Western|Action</td>\n",
       "      <td>4300000.0</td>\n",
       "      <td>1700000</td>\n",
       "    </tr>\n",
       "    <tr>\n",
       "      <th>1963</th>\n",
       "      <td>Action|Drama|History</td>\n",
       "      <td>10000000.0</td>\n",
       "      <td>7000000</td>\n",
       "    </tr>\n",
       "    <tr>\n",
       "      <th>1965</th>\n",
       "      <td>Drama|History</td>\n",
       "      <td>12000000.0</td>\n",
       "      <td>8000000</td>\n",
       "    </tr>\n",
       "    <tr>\n",
       "      <th>1967</th>\n",
       "      <td>Comedy|Romance</td>\n",
       "      <td>9000000.0</td>\n",
       "      <td>9000000</td>\n",
       "    </tr>\n",
       "    <tr>\n",
       "      <th>1968</th>\n",
       "      <td>Drama|Romance|Science Fiction</td>\n",
       "      <td>814666.0</td>\n",
       "      <td>135334</td>\n",
       "    </tr>\n",
       "    <tr>\n",
       "      <th>1969</th>\n",
       "      <td>Adventure|Western</td>\n",
       "      <td>638641.0</td>\n",
       "      <td>5605446</td>\n",
       "    </tr>\n",
       "    <tr>\n",
       "      <th>1970</th>\n",
       "      <td>Drama|Romance</td>\n",
       "      <td>3500000.0</td>\n",
       "      <td>8500000</td>\n",
       "    </tr>\n",
       "    <tr>\n",
       "      <th>1977</th>\n",
       "      <td>Action|Thriller|Adventure</td>\n",
       "      <td>12000000.0</td>\n",
       "      <td>10000000</td>\n",
       "    </tr>\n",
       "    <tr>\n",
       "      <th>1978</th>\n",
       "      <td>Adventure|Family|Fantasy|Music|Science Fiction</td>\n",
       "      <td>21049053.0</td>\n",
       "      <td>2950947</td>\n",
       "    </tr>\n",
       "    <tr>\n",
       "      <th>1979</th>\n",
       "      <td>Action|Drama|Thriller</td>\n",
       "      <td>31755742.0</td>\n",
       "      <td>3244258</td>\n",
       "    </tr>\n",
       "    <tr>\n",
       "      <th>1980</th>\n",
       "      <td>Science Fiction</td>\n",
       "      <td>27107960.0</td>\n",
       "      <td>40515669</td>\n",
       "    </tr>\n",
       "    <tr>\n",
       "      <th>1981</th>\n",
       "      <td>Thriller|Horror|Mystery</td>\n",
       "      <td>12000000.0</td>\n",
       "      <td>12000000</td>\n",
       "    </tr>\n",
       "    <tr>\n",
       "      <th>1983</th>\n",
       "      <td>Science Fiction|Thriller</td>\n",
       "      <td>21500000.0</td>\n",
       "      <td>13343913</td>\n",
       "    </tr>\n",
       "    <tr>\n",
       "      <th>1984</th>\n",
       "      <td>Mystery|Thriller</td>\n",
       "      <td>30925690.0</td>\n",
       "      <td>32071279</td>\n",
       "    </tr>\n",
       "    <tr>\n",
       "      <th>1985</th>\n",
       "      <td>Fantasy|Comedy|Romance</td>\n",
       "      <td>23717291.0</td>\n",
       "      <td>26282709</td>\n",
       "    </tr>\n",
       "    <tr>\n",
       "      <th>1986</th>\n",
       "      <td>Science Fiction|Thriller</td>\n",
       "      <td>17218023.0</td>\n",
       "      <td>38358175</td>\n",
       "    </tr>\n",
       "    <tr>\n",
       "      <th>1987</th>\n",
       "      <td>Science Fiction</td>\n",
       "      <td>16057580.0</td>\n",
       "      <td>9986000</td>\n",
       "    </tr>\n",
       "    <tr>\n",
       "      <th>1988</th>\n",
       "      <td>Thriller|Drama|Horror|Science Fiction</td>\n",
       "      <td>17637950.0</td>\n",
       "      <td>11807560</td>\n",
       "    </tr>\n",
       "    <tr>\n",
       "      <th>1989</th>\n",
       "      <td>Science Fiction|Thriller</td>\n",
       "      <td>18671317.0</td>\n",
       "      <td>31867888</td>\n",
       "    </tr>\n",
       "    <tr>\n",
       "      <th>1990</th>\n",
       "      <td>Music|Comedy</td>\n",
       "      <td>41482207.0</td>\n",
       "      <td>31308808</td>\n",
       "    </tr>\n",
       "    <tr>\n",
       "      <th>1991</th>\n",
       "      <td>Thriller|Comedy</td>\n",
       "      <td>34416893.0</td>\n",
       "      <td>47781920</td>\n",
       "    </tr>\n",
       "    <tr>\n",
       "      <th>1992</th>\n",
       "      <td>Thriller|Drama|Romance</td>\n",
       "      <td>22518097.0</td>\n",
       "      <td>39808601</td>\n",
       "    </tr>\n",
       "    <tr>\n",
       "      <th>1993</th>\n",
       "      <td>Thriller|Crime</td>\n",
       "      <td>32255440.0</td>\n",
       "      <td>30141861</td>\n",
       "    </tr>\n",
       "    <tr>\n",
       "      <th>1994</th>\n",
       "      <td>Thriller|Drama|Romance|Mystery</td>\n",
       "      <td>49000000.0</td>\n",
       "      <td>37948000</td>\n",
       "    </tr>\n",
       "    <tr>\n",
       "      <th>1995</th>\n",
       "      <td>War|Adventure|Drama|Romance</td>\n",
       "      <td>35431113.0</td>\n",
       "      <td>79482678</td>\n",
       "    </tr>\n",
       "    <tr>\n",
       "      <th>1996</th>\n",
       "      <td>Horror|Comedy</td>\n",
       "      <td>47267001.0</td>\n",
       "      <td>36373581</td>\n",
       "    </tr>\n",
       "    <tr>\n",
       "      <th>1997</th>\n",
       "      <td>Thriller|Science Fiction|Mystery|Romance</td>\n",
       "      <td>48169156.0</td>\n",
       "      <td>62373766</td>\n",
       "    </tr>\n",
       "    <tr>\n",
       "      <th>1998</th>\n",
       "      <td>Thriller</td>\n",
       "      <td>71485043.0</td>\n",
       "      <td>61900000</td>\n",
       "    </tr>\n",
       "    <tr>\n",
       "      <th>1999</th>\n",
       "      <td>Thriller|Comedy|Horror</td>\n",
       "      <td>93700000.0</td>\n",
       "      <td>98301101</td>\n",
       "    </tr>\n",
       "    <tr>\n",
       "      <th>2000</th>\n",
       "      <td>Thriller|Action|Science Fiction</td>\n",
       "      <td>76432727.0</td>\n",
       "      <td>75171919</td>\n",
       "    </tr>\n",
       "    <tr>\n",
       "      <th>2001</th>\n",
       "      <td>Mystery|Thriller|Crime</td>\n",
       "      <td>87713825.0</td>\n",
       "      <td>69590483</td>\n",
       "    </tr>\n",
       "    <tr>\n",
       "      <th>2002</th>\n",
       "      <td>War|Adventure|Drama|Romance</td>\n",
       "      <td>109578115.0</td>\n",
       "      <td>92896027</td>\n",
       "    </tr>\n",
       "    <tr>\n",
       "      <th>2003</th>\n",
       "      <td>Thriller|Mystery</td>\n",
       "      <td>80916492.0</td>\n",
       "      <td>99999750</td>\n",
       "    </tr>\n",
       "    <tr>\n",
       "      <th>2004</th>\n",
       "      <td>Western|History|War</td>\n",
       "      <td>103951461.0</td>\n",
       "      <td>119180039</td>\n",
       "    </tr>\n",
       "    <tr>\n",
       "      <th>2005</th>\n",
       "      <td>Thriller|Science Fiction|Adventure|Action</td>\n",
       "      <td>119269486.0</td>\n",
       "      <td>74010360</td>\n",
       "    </tr>\n",
       "    <tr>\n",
       "      <th>2006</th>\n",
       "      <td>Western|Drama</td>\n",
       "      <td>69959751.0</td>\n",
       "      <td>84999856</td>\n",
       "    </tr>\n",
       "    <tr>\n",
       "      <th>2007</th>\n",
       "      <td>Thriller|Drama|Horror</td>\n",
       "      <td>173000000.0</td>\n",
       "      <td>71626175</td>\n",
       "    </tr>\n",
       "    <tr>\n",
       "      <th>2008</th>\n",
       "      <td>Thriller|Drama|Action|Crime|War</td>\n",
       "      <td>93945766.0</td>\n",
       "      <td>80445998</td>\n",
       "    </tr>\n",
       "    <tr>\n",
       "      <th>2009</th>\n",
       "      <td>Thriller</td>\n",
       "      <td>68688831.0</td>\n",
       "      <td>43452791</td>\n",
       "    </tr>\n",
       "    <tr>\n",
       "      <th>2010</th>\n",
       "      <td>Thriller|Crime|Horror</td>\n",
       "      <td>94882889.0</td>\n",
       "      <td>413912431</td>\n",
       "    </tr>\n",
       "    <tr>\n",
       "      <th>2011</th>\n",
       "      <td>War|Drama</td>\n",
       "      <td>67112664.0</td>\n",
       "      <td>111007242</td>\n",
       "    </tr>\n",
       "    <tr>\n",
       "      <th>2012</th>\n",
       "      <td>War|Action|Thriller|Science Fiction</td>\n",
       "      <td>59418613.0</td>\n",
       "      <td>64926294</td>\n",
       "    </tr>\n",
       "    <tr>\n",
       "      <th>2013</th>\n",
       "      <td>Western|Thriller</td>\n",
       "      <td>150962475.0</td>\n",
       "      <td>165710090</td>\n",
       "    </tr>\n",
       "    <tr>\n",
       "      <th>2014</th>\n",
       "      <td>Western|Drama</td>\n",
       "      <td>117831631.0</td>\n",
       "      <td>32694825</td>\n",
       "    </tr>\n",
       "    <tr>\n",
       "      <th>2015</th>\n",
       "      <td>Thriller|Horror</td>\n",
       "      <td>128388320.0</td>\n",
       "      <td>52247060</td>\n",
       "    </tr>\n",
       "  </tbody>\n",
       "</table>\n",
       "</div>"
      ],
      "text/plain": [
       "                                                      genres      revenue  \\\n",
       "release_year                                                                \n",
       "1961                                          Western|Action    4300000.0   \n",
       "1963                                    Action|Drama|History   10000000.0   \n",
       "1965                                           Drama|History   12000000.0   \n",
       "1967                                          Comedy|Romance    9000000.0   \n",
       "1968                           Drama|Romance|Science Fiction     814666.0   \n",
       "1969                                       Adventure|Western     638641.0   \n",
       "1970                                           Drama|Romance    3500000.0   \n",
       "1977                               Action|Thriller|Adventure   12000000.0   \n",
       "1978          Adventure|Family|Fantasy|Music|Science Fiction   21049053.0   \n",
       "1979                                   Action|Drama|Thriller   31755742.0   \n",
       "1980                                         Science Fiction   27107960.0   \n",
       "1981                                 Thriller|Horror|Mystery   12000000.0   \n",
       "1983                                Science Fiction|Thriller   21500000.0   \n",
       "1984                                        Mystery|Thriller   30925690.0   \n",
       "1985                                  Fantasy|Comedy|Romance   23717291.0   \n",
       "1986                                Science Fiction|Thriller   17218023.0   \n",
       "1987                                         Science Fiction   16057580.0   \n",
       "1988                   Thriller|Drama|Horror|Science Fiction   17637950.0   \n",
       "1989                                Science Fiction|Thriller   18671317.0   \n",
       "1990                                            Music|Comedy   41482207.0   \n",
       "1991                                         Thriller|Comedy   34416893.0   \n",
       "1992                                  Thriller|Drama|Romance   22518097.0   \n",
       "1993                                          Thriller|Crime   32255440.0   \n",
       "1994                          Thriller|Drama|Romance|Mystery   49000000.0   \n",
       "1995                             War|Adventure|Drama|Romance   35431113.0   \n",
       "1996                                           Horror|Comedy   47267001.0   \n",
       "1997                Thriller|Science Fiction|Mystery|Romance   48169156.0   \n",
       "1998                                                Thriller   71485043.0   \n",
       "1999                                  Thriller|Comedy|Horror   93700000.0   \n",
       "2000                         Thriller|Action|Science Fiction   76432727.0   \n",
       "2001                                  Mystery|Thriller|Crime   87713825.0   \n",
       "2002                             War|Adventure|Drama|Romance  109578115.0   \n",
       "2003                                        Thriller|Mystery   80916492.0   \n",
       "2004                                     Western|History|War  103951461.0   \n",
       "2005               Thriller|Science Fiction|Adventure|Action  119269486.0   \n",
       "2006                                           Western|Drama   69959751.0   \n",
       "2007                                   Thriller|Drama|Horror  173000000.0   \n",
       "2008                         Thriller|Drama|Action|Crime|War   93945766.0   \n",
       "2009                                                Thriller   68688831.0   \n",
       "2010                                   Thriller|Crime|Horror   94882889.0   \n",
       "2011                                               War|Drama   67112664.0   \n",
       "2012                     War|Action|Thriller|Science Fiction   59418613.0   \n",
       "2013                                        Western|Thriller  150962475.0   \n",
       "2014                                           Western|Drama  117831631.0   \n",
       "2015                                         Thriller|Horror  128388320.0   \n",
       "\n",
       "                 profit  \n",
       "release_year             \n",
       "1961            1700000  \n",
       "1963            7000000  \n",
       "1965            8000000  \n",
       "1967            9000000  \n",
       "1968             135334  \n",
       "1969            5605446  \n",
       "1970            8500000  \n",
       "1977           10000000  \n",
       "1978            2950947  \n",
       "1979            3244258  \n",
       "1980           40515669  \n",
       "1981           12000000  \n",
       "1983           13343913  \n",
       "1984           32071279  \n",
       "1985           26282709  \n",
       "1986           38358175  \n",
       "1987            9986000  \n",
       "1988           11807560  \n",
       "1989           31867888  \n",
       "1990           31308808  \n",
       "1991           47781920  \n",
       "1992           39808601  \n",
       "1993           30141861  \n",
       "1994           37948000  \n",
       "1995           79482678  \n",
       "1996           36373581  \n",
       "1997           62373766  \n",
       "1998           61900000  \n",
       "1999           98301101  \n",
       "2000           75171919  \n",
       "2001           69590483  \n",
       "2002           92896027  \n",
       "2003           99999750  \n",
       "2004          119180039  \n",
       "2005           74010360  \n",
       "2006           84999856  \n",
       "2007           71626175  \n",
       "2008           80445998  \n",
       "2009           43452791  \n",
       "2010          413912431  \n",
       "2011          111007242  \n",
       "2012           64926294  \n",
       "2013          165710090  \n",
       "2014           32694825  \n",
       "2015           52247060  "
      ]
     },
     "execution_count": 31,
     "metadata": {},
     "output_type": "execute_result"
    }
   ],
   "source": [
    "genres = df_s.groupby(df_s.release_year)[['genres','revenue','profit']].max()\n",
    "genres"
   ]
  },
  {
   "cell_type": "markdown",
   "metadata": {},
   "source": [
    "### Question 2  What kinds of properties are associated with movies that have high revenues?"
   ]
  },
  {
   "cell_type": "code",
   "execution_count": 32,
   "metadata": {},
   "outputs": [
    {
     "data": {
      "text/plain": [
       "481"
      ]
     },
     "execution_count": 32,
     "metadata": {},
     "output_type": "execute_result"
    }
   ],
   "source": [
    "# first let see how many movies have made above $10M profit\n",
    "sum(df_s.profit >=10000000)"
   ]
  },
  {
   "cell_type": "markdown",
   "metadata": {},
   "source": [
    "481 movies have made above 10 million dollars, so let's filter our data by profit greater than or equal $10M"
   ]
  },
  {
   "cell_type": "code",
   "execution_count": 33,
   "metadata": {},
   "outputs": [
    {
     "data": {
      "text/plain": [
       "(481, 10)"
      ]
     },
     "execution_count": 33,
     "metadata": {},
     "output_type": "execute_result"
    }
   ],
   "source": [
    "# let's make it in another dataframe called df_s2\n",
    "df_s2 = df_s.query(\"profit >= 10000000\")\n",
    "# Check\n",
    "df_s2.shape"
   ]
  },
  {
   "cell_type": "code",
   "execution_count": 34,
   "metadata": {},
   "outputs": [
    {
     "data": {
      "text/html": [
       "<div>\n",
       "<style scoped>\n",
       "    .dataframe tbody tr th:only-of-type {\n",
       "        vertical-align: middle;\n",
       "    }\n",
       "\n",
       "    .dataframe tbody tr th {\n",
       "        vertical-align: top;\n",
       "    }\n",
       "\n",
       "    .dataframe thead th {\n",
       "        text-align: right;\n",
       "    }\n",
       "</style>\n",
       "<table border=\"1\" class=\"dataframe\">\n",
       "  <thead>\n",
       "    <tr style=\"text-align: right;\">\n",
       "      <th></th>\n",
       "      <th>profit</th>\n",
       "      <th>budget</th>\n",
       "      <th>revenue</th>\n",
       "      <th>original_title</th>\n",
       "      <th>cast</th>\n",
       "      <th>director</th>\n",
       "      <th>runtime</th>\n",
       "      <th>genres</th>\n",
       "      <th>release_date</th>\n",
       "      <th>release_year</th>\n",
       "    </tr>\n",
       "  </thead>\n",
       "  <tbody>\n",
       "    <tr>\n",
       "      <th>1</th>\n",
       "      <td>29581440</td>\n",
       "      <td>60000000.0</td>\n",
       "      <td>30418560.0</td>\n",
       "      <td>Mortdecai</td>\n",
       "      <td>Johnny Depp|Gwyneth Paltrow|Ewan McGregor|Paul...</td>\n",
       "      <td>David Koepp</td>\n",
       "      <td>106</td>\n",
       "      <td>Comedy|Adventure</td>\n",
       "      <td>2015-01-21</td>\n",
       "      <td>2015</td>\n",
       "    </tr>\n",
       "    <tr>\n",
       "      <th>2</th>\n",
       "      <td>52247060</td>\n",
       "      <td>70000000.0</td>\n",
       "      <td>17752940.0</td>\n",
       "      <td>Blackhat</td>\n",
       "      <td>Chris Hemsworth|Leehom Wang|Tang Wei|Viola Dav...</td>\n",
       "      <td>Michael Mann</td>\n",
       "      <td>133</td>\n",
       "      <td>Mystery|Crime|Action|Thriller|Drama</td>\n",
       "      <td>2015-01-13</td>\n",
       "      <td>2015</td>\n",
       "    </tr>\n",
       "    <tr>\n",
       "      <th>4</th>\n",
       "      <td>21611680</td>\n",
       "      <td>150000000.0</td>\n",
       "      <td>128388320.0</td>\n",
       "      <td>Pan</td>\n",
       "      <td>Levi Miller|Garrett Hedlund|Hugh Jackman|Roone...</td>\n",
       "      <td>Joe Wright</td>\n",
       "      <td>111</td>\n",
       "      <td>Adventure|Family|Fantasy</td>\n",
       "      <td>2015-09-24</td>\n",
       "      <td>2015</td>\n",
       "    </tr>\n",
       "    <tr>\n",
       "      <th>7</th>\n",
       "      <td>46675670</td>\n",
       "      <td>50000000.0</td>\n",
       "      <td>3324330.0</td>\n",
       "      <td>Child 44</td>\n",
       "      <td>Tom Hardy|Gary Oldman|Noomi Rapace|Joel Kinnam...</td>\n",
       "      <td>Daniel Espinosa</td>\n",
       "      <td>137</td>\n",
       "      <td>Crime|Thriller</td>\n",
       "      <td>2015-03-15</td>\n",
       "      <td>2015</td>\n",
       "    </tr>\n",
       "    <tr>\n",
       "      <th>10</th>\n",
       "      <td>19791412</td>\n",
       "      <td>20000000.0</td>\n",
       "      <td>208588.0</td>\n",
       "      <td>Dark Places</td>\n",
       "      <td>Charlize Theron|Nicholas Hoult|Christina Hendr...</td>\n",
       "      <td>Gilles Paquet-Brenner</td>\n",
       "      <td>113</td>\n",
       "      <td>Drama|Mystery|Thriller</td>\n",
       "      <td>2015-03-31</td>\n",
       "      <td>2015</td>\n",
       "    </tr>\n",
       "  </tbody>\n",
       "</table>\n",
       "</div>"
      ],
      "text/plain": [
       "      profit       budget      revenue original_title  \\\n",
       "1   29581440   60000000.0   30418560.0      Mortdecai   \n",
       "2   52247060   70000000.0   17752940.0       Blackhat   \n",
       "4   21611680  150000000.0  128388320.0            Pan   \n",
       "7   46675670   50000000.0    3324330.0       Child 44   \n",
       "10  19791412   20000000.0     208588.0    Dark Places   \n",
       "\n",
       "                                                 cast               director  \\\n",
       "1   Johnny Depp|Gwyneth Paltrow|Ewan McGregor|Paul...            David Koepp   \n",
       "2   Chris Hemsworth|Leehom Wang|Tang Wei|Viola Dav...           Michael Mann   \n",
       "4   Levi Miller|Garrett Hedlund|Hugh Jackman|Roone...             Joe Wright   \n",
       "7   Tom Hardy|Gary Oldman|Noomi Rapace|Joel Kinnam...        Daniel Espinosa   \n",
       "10  Charlize Theron|Nicholas Hoult|Christina Hendr...  Gilles Paquet-Brenner   \n",
       "\n",
       "    runtime                               genres release_date  release_year  \n",
       "1       106                     Comedy|Adventure   2015-01-21          2015  \n",
       "2       133  Mystery|Crime|Action|Thriller|Drama   2015-01-13          2015  \n",
       "4       111             Adventure|Family|Fantasy   2015-09-24          2015  \n",
       "7       137                       Crime|Thriller   2015-03-15          2015  \n",
       "10      113               Drama|Mystery|Thriller   2015-03-31          2015  "
      ]
     },
     "execution_count": 34,
     "metadata": {},
     "output_type": "execute_result"
    }
   ],
   "source": [
    "df_s2.head()"
   ]
  },
  {
   "cell_type": "markdown",
   "metadata": {},
   "source": [
    "Let is see The Frequent director "
   ]
  },
  {
   "cell_type": "code",
   "execution_count": 35,
   "metadata": {},
   "outputs": [
    {
     "data": {
      "text/plain": [
       "director\n",
       "Aaron Blaise|Robert Walker    99999750\n",
       "Abel Ferrara                  12571132\n",
       "Adam Rifkin                   47773556\n",
       "Adam Shankman                 15581387\n",
       "Adrian Lyne                   71204022\n",
       "                                ...   \n",
       "William Malone                21097985\n",
       "William Monahan               20355892\n",
       "Wolfgang Petersen             10488969\n",
       "Woody Allen                   11264269\n",
       "Wych Kaosayananda             50075967\n",
       "Name: profit, Length: 394, dtype: int64"
      ]
     },
     "execution_count": 35,
     "metadata": {},
     "output_type": "execute_result"
    }
   ],
   "source": [
    "# using groupby with the sum of the directors \n",
    "director = df_s2.groupby(df_s2.director)['profit'].sum()\n",
    "director"
   ]
  },
  {
   "cell_type": "code",
   "execution_count": 36,
   "metadata": {},
   "outputs": [
    {
     "data": {
      "image/png": "[encoded data removed]",
      "text/plain": [
       "<Figure size 720x504 with 1 Axes>"
      ]
     },
     "metadata": {
      "needs_background": "light"
     },
     "output_type": "display_data"
    }
   ],
   "source": [
    "#plot the bar graph for directors\n",
    "d = director.sort_values(ascending =False).head(30) # Top 30 directors\n",
    "d.plot.bar(x = 'director',y = 'profit',figsize = (10,7))\n",
    "plt.xlabel ('Director')\n",
    "plt.ylabel ('Profit')\n",
    "plt.title ('Top Directors with Highest Profit')\n",
    "plt.show()"
   ]
  },
  {
   "cell_type": "markdown",
   "metadata": {},
   "source": [
    "###### Sngmoo Lee one of the most director that made highest movies profit"
   ]
  },
  {
   "cell_type": "markdown",
   "metadata": {},
   "source": [
    "Let's see the best runtime by its mean"
   ]
  },
  {
   "cell_type": "code",
   "execution_count": 37,
   "metadata": {},
   "outputs": [
    {
     "data": {
      "text/plain": [
       "109.75051975051976"
      ]
     },
     "execution_count": 37,
     "metadata": {},
     "output_type": "execute_result"
    }
   ],
   "source": [
    "df_s2.runtime.mean()"
   ]
  },
  {
   "cell_type": "code",
   "execution_count": 38,
   "metadata": {},
   "outputs": [
    {
     "name": "stderr",
     "output_type": "stream",
     "text": [
      "/home/abdallah/.local/lib/python3.8/site-packages/seaborn/_decorators.py:36: FutureWarning: Pass the following variable as a keyword arg: x. From version 0.12, the only valid positional argument will be `data`, and passing other arguments without an explicit keyword will result in an error or misinterpretation.\n",
      "  warnings.warn(\n"
     ]
    },
    {
     "data": {
      "text/plain": [
       "<AxesSubplot:xlabel='runtime'>"
      ]
     },
     "execution_count": 38,
     "metadata": {},
     "output_type": "execute_result"
    },
    {
     "data": {
      "image/png": "[encoded data removed]",
      "text/plain": [
       "<Figure size 1300x780 with 1 Axes>"
      ]
     },
     "metadata": {
      "needs_background": "light"
     },
     "output_type": "display_data"
    }
   ],
   "source": [
    "#using seaborn to generate the boxplot\n",
    "plt.figure(figsize=(10,6),dpi=130)\n",
    "sns.boxplot(df.runtime)"
   ]
  },
  {
   "cell_type": "markdown",
   "metadata": {},
   "source": [
    "###### 110 runtime is the best for high profit & in range of 100 - 120"
   ]
  },
  {
   "cell_type": "markdown",
   "metadata": {},
   "source": [
    "Let's see the best budget by its mean"
   ]
  },
  {
   "cell_type": "code",
   "execution_count": 39,
   "metadata": {},
   "outputs": [
    {
     "data": {
      "text/plain": [
       "44821740"
      ]
     },
     "execution_count": 39,
     "metadata": {},
     "output_type": "execute_result"
    }
   ],
   "source": [
    "# to int\n",
    "int(df_s2.budget.mean())"
   ]
  },
  {
   "cell_type": "code",
   "execution_count": 40,
   "metadata": {},
   "outputs": [
    {
     "data": {
      "text/plain": [
       "<AxesSubplot:xlabel='budget'>"
      ]
     },
     "execution_count": 40,
     "metadata": {},
     "output_type": "execute_result"
    },
    {
     "data": {
      "image/png": "[encoded data removed]",
      "text/plain": [
       "<Figure size 720x360 with 1 Axes>"
      ]
     },
     "metadata": {
      "needs_background": "light"
     },
     "output_type": "display_data"
    }
   ],
   "source": [
    "df_s2.plot(x='budget',y='profit',kind='line',figsize=(10,5))"
   ]
  },
  {
   "cell_type": "markdown",
   "metadata": {},
   "source": [
    "Let's see the most genres"
   ]
  },
  {
   "cell_type": "code",
   "execution_count": 41,
   "metadata": {},
   "outputs": [],
   "source": [
    "# split genres column ( dataframe with genres only of each movie)\n",
    "genres = df_s2[\"genres\"].str.split(\"|\", expand=True) "
   ]
  },
  {
   "cell_type": "code",
   "execution_count": 42,
   "metadata": {},
   "outputs": [
    {
     "data": {
      "text/html": [
       "<div>\n",
       "<style scoped>\n",
       "    .dataframe tbody tr th:only-of-type {\n",
       "        vertical-align: middle;\n",
       "    }\n",
       "\n",
       "    .dataframe tbody tr th {\n",
       "        vertical-align: top;\n",
       "    }\n",
       "\n",
       "    .dataframe thead th {\n",
       "        text-align: right;\n",
       "    }\n",
       "</style>\n",
       "<table border=\"1\" class=\"dataframe\">\n",
       "  <thead>\n",
       "    <tr style=\"text-align: right;\">\n",
       "      <th></th>\n",
       "      <th>0</th>\n",
       "    </tr>\n",
       "  </thead>\n",
       "  <tbody>\n",
       "    <tr>\n",
       "      <th>Action</th>\n",
       "      <td>111.0</td>\n",
       "    </tr>\n",
       "    <tr>\n",
       "      <th>Adventure</th>\n",
       "      <td>48.0</td>\n",
       "    </tr>\n",
       "    <tr>\n",
       "      <th>Animation</th>\n",
       "      <td>12.0</td>\n",
       "    </tr>\n",
       "    <tr>\n",
       "      <th>Comedy</th>\n",
       "      <td>66.0</td>\n",
       "    </tr>\n",
       "    <tr>\n",
       "      <th>Crime</th>\n",
       "      <td>20.0</td>\n",
       "    </tr>\n",
       "    <tr>\n",
       "      <th>Drama</th>\n",
       "      <td>129.0</td>\n",
       "    </tr>\n",
       "    <tr>\n",
       "      <th>Family</th>\n",
       "      <td>3.0</td>\n",
       "    </tr>\n",
       "    <tr>\n",
       "      <th>Fantasy</th>\n",
       "      <td>14.0</td>\n",
       "    </tr>\n",
       "    <tr>\n",
       "      <th>Foreign</th>\n",
       "      <td>NaN</td>\n",
       "    </tr>\n",
       "    <tr>\n",
       "      <th>History</th>\n",
       "      <td>1.0</td>\n",
       "    </tr>\n",
       "    <tr>\n",
       "      <th>Horror</th>\n",
       "      <td>14.0</td>\n",
       "    </tr>\n",
       "    <tr>\n",
       "      <th>Music</th>\n",
       "      <td>4.0</td>\n",
       "    </tr>\n",
       "    <tr>\n",
       "      <th>Mystery</th>\n",
       "      <td>9.0</td>\n",
       "    </tr>\n",
       "    <tr>\n",
       "      <th>Romance</th>\n",
       "      <td>5.0</td>\n",
       "    </tr>\n",
       "    <tr>\n",
       "      <th>Science Fiction</th>\n",
       "      <td>10.0</td>\n",
       "    </tr>\n",
       "    <tr>\n",
       "      <th>Thriller</th>\n",
       "      <td>27.0</td>\n",
       "    </tr>\n",
       "    <tr>\n",
       "      <th>War</th>\n",
       "      <td>5.0</td>\n",
       "    </tr>\n",
       "    <tr>\n",
       "      <th>Western</th>\n",
       "      <td>3.0</td>\n",
       "    </tr>\n",
       "  </tbody>\n",
       "</table>\n",
       "</div>"
      ],
      "text/plain": [
       "                     0\n",
       "Action           111.0\n",
       "Adventure         48.0\n",
       "Animation         12.0\n",
       "Comedy            66.0\n",
       "Crime             20.0\n",
       "Drama            129.0\n",
       "Family             3.0\n",
       "Fantasy           14.0\n",
       "Foreign            NaN\n",
       "History            1.0\n",
       "Horror            14.0\n",
       "Music              4.0\n",
       "Mystery            9.0\n",
       "Romance            5.0\n",
       "Science Fiction   10.0\n",
       "Thriller          27.0\n",
       "War                5.0\n",
       "Western            3.0"
      ]
     },
     "execution_count": 42,
     "metadata": {},
     "output_type": "execute_result"
    }
   ],
   "source": [
    "# list with number of movies made per genre\n",
    "genres2 = genres.apply(pd.value_counts)\n",
    "genres2.drop([1, 2, 3, 4], axis=1, inplace=True)\n",
    "genres2"
   ]
  },
  {
   "cell_type": "code",
   "execution_count": 43,
   "metadata": {},
   "outputs": [
    {
     "data": {
      "text/plain": [
       "Text(0.5, 0, 'Genres')"
      ]
     },
     "execution_count": 43,
     "metadata": {},
     "output_type": "execute_result"
    },
    {
     "data": {
      "image/png": "[encoded data removed]",
      "text/plain": [
       "<Figure size 720x504 with 1 Axes>"
      ]
     },
     "metadata": {
      "needs_background": "light"
     },
     "output_type": "display_data"
    }
   ],
   "source": [
    "# plot high movies profit according to genres\n",
    "ax = genres2.plot(kind='bar',figsize=(10, 7))\n",
    "plt.ylabel('No.of Movies')\n",
    "plt.xlabel('Genres')"
   ]
  },
  {
   "cell_type": "markdown",
   "metadata": {},
   "source": [
    "This graphy show that Action ,Drama are the top genres according to high profit"
   ]
  },
  {
   "cell_type": "markdown",
   "metadata": {},
   "source": [
    "Let's see what's the top cast"
   ]
  },
  {
   "cell_type": "code",
   "execution_count": 44,
   "metadata": {},
   "outputs": [
    {
     "data": {
      "text/plain": [
       "cast\n",
       "Abbie Cornish|Andrea Riseborough|James D'Arcy|Richard Coyle|David Harbour       14131561\n",
       "Adam Sandler|Seth Rogen|Leslie Mann|Eric Bana|Jonah Hill                        13541018\n",
       "Adam Sandler|Susan Sarandon|Eva Amurri Martino|Leighton Meester|Andy Samberg    11941633\n",
       "Adam Sandler|TÃ©a Leoni|Paz Vega|Cloris Leachman|Shelbie Bruce                  24958633\n",
       "Al Pacino|Alicia Witt|Leelee Sobieski|Amy Brenneman|William Forsythe            13069116\n",
       "                                                                                  ...   \n",
       "Woody Allen|Kathy Bates|John Cusack|Mia Farrow|Jodie Foster                     11264269\n",
       "Woody Harrelson|Courtney Love|Edward Norton|Brett Harrelson|Donna Hanover       15699615\n",
       "Woody Harrelson|Steve Buscemi|Ben Foster|Robin Wright|Jon Bernthal              11027488\n",
       "Zac Efron|Claire Danes|Christian McKay|Imogen Poots|Zoe Kazan                   22663828\n",
       "Zac Efron|Matthew McConaughey|Nicole Kidman|John Cusack|David Oyelowo           11146132\n",
       "Name: profit, Length: 481, dtype: int64"
      ]
     },
     "execution_count": 44,
     "metadata": {},
     "output_type": "execute_result"
    }
   ],
   "source": [
    "# using groupby with the sum of the cast \n",
    "cast = df_s2.groupby(df_s2.cast)['profit'].sum()\n",
    "cast"
   ]
  },
  {
   "cell_type": "code",
   "execution_count": 45,
   "metadata": {},
   "outputs": [
    {
     "data": {
      "image/png": "[encoded data removed]",
      "text/plain": [
       "<Figure size 720x504 with 1 Axes>"
      ]
     },
     "metadata": {
      "needs_background": "light"
     },
     "output_type": "display_data"
    }
   ],
   "source": [
    "#plot the bar graph for directors\n",
    "c = cast.sort_values(ascending =False).head(30) # Top 30 directors\n",
    "c.plot.bar(x = 'cast',y = 'profit',figsize = (10,7))\n",
    "plt.xlabel ('Cast')\n",
    "plt.ylabel ('Profit')\n",
    "plt.title ('Top Casts with Highest Profit')\n",
    "plt.show()"
   ]
  },
  {
   "cell_type": "code",
   "execution_count": 46,
   "metadata": {},
   "outputs": [
    {
     "data": {
      "text/html": [
       "<div>\n",
       "<style scoped>\n",
       "    .dataframe tbody tr th:only-of-type {\n",
       "        vertical-align: middle;\n",
       "    }\n",
       "\n",
       "    .dataframe tbody tr th {\n",
       "        vertical-align: top;\n",
       "    }\n",
       "\n",
       "    .dataframe thead th {\n",
       "        text-align: right;\n",
       "    }\n",
       "</style>\n",
       "<table border=\"1\" class=\"dataframe\">\n",
       "  <thead>\n",
       "    <tr style=\"text-align: right;\">\n",
       "      <th></th>\n",
       "      <th>profit</th>\n",
       "      <th>budget</th>\n",
       "      <th>revenue</th>\n",
       "      <th>runtime</th>\n",
       "      <th>release_year</th>\n",
       "    </tr>\n",
       "  </thead>\n",
       "  <tbody>\n",
       "    <tr>\n",
       "      <th>count</th>\n",
       "      <td>4.810000e+02</td>\n",
       "      <td>4.810000e+02</td>\n",
       "      <td>4.810000e+02</td>\n",
       "      <td>481.000000</td>\n",
       "      <td>481.000000</td>\n",
       "    </tr>\n",
       "    <tr>\n",
       "      <th>mean</th>\n",
       "      <td>2.608861e+07</td>\n",
       "      <td>4.482174e+07</td>\n",
       "      <td>1.873313e+07</td>\n",
       "      <td>109.750520</td>\n",
       "      <td>2003.220374</td>\n",
       "    </tr>\n",
       "    <tr>\n",
       "      <th>std</th>\n",
       "      <td>2.518663e+07</td>\n",
       "      <td>3.482620e+07</td>\n",
       "      <td>2.165753e+07</td>\n",
       "      <td>21.987689</td>\n",
       "      <td>7.485074</td>\n",
       "    </tr>\n",
       "    <tr>\n",
       "      <th>min</th>\n",
       "      <td>1.000000e+07</td>\n",
       "      <td>1.100000e+07</td>\n",
       "      <td>5.000000e+00</td>\n",
       "      <td>63.000000</td>\n",
       "      <td>1977.000000</td>\n",
       "    </tr>\n",
       "    <tr>\n",
       "      <th>25%</th>\n",
       "      <td>1.354102e+07</td>\n",
       "      <td>2.300000e+07</td>\n",
       "      <td>4.627375e+06</td>\n",
       "      <td>97.000000</td>\n",
       "      <td>1998.000000</td>\n",
       "    </tr>\n",
       "    <tr>\n",
       "      <th>50%</th>\n",
       "      <td>1.979141e+07</td>\n",
       "      <td>3.500000e+07</td>\n",
       "      <td>1.200000e+07</td>\n",
       "      <td>106.000000</td>\n",
       "      <td>2004.000000</td>\n",
       "    </tr>\n",
       "    <tr>\n",
       "      <th>75%</th>\n",
       "      <td>3.051780e+07</td>\n",
       "      <td>6.000000e+07</td>\n",
       "      <td>2.415993e+07</td>\n",
       "      <td>118.000000</td>\n",
       "      <td>2009.000000</td>\n",
       "    </tr>\n",
       "    <tr>\n",
       "      <th>max</th>\n",
       "      <td>4.139124e+08</td>\n",
       "      <td>4.250000e+08</td>\n",
       "      <td>1.509625e+08</td>\n",
       "      <td>338.000000</td>\n",
       "      <td>2015.000000</td>\n",
       "    </tr>\n",
       "  </tbody>\n",
       "</table>\n",
       "</div>"
      ],
      "text/plain": [
       "             profit        budget       revenue     runtime  release_year\n",
       "count  4.810000e+02  4.810000e+02  4.810000e+02  481.000000    481.000000\n",
       "mean   2.608861e+07  4.482174e+07  1.873313e+07  109.750520   2003.220374\n",
       "std    2.518663e+07  3.482620e+07  2.165753e+07   21.987689      7.485074\n",
       "min    1.000000e+07  1.100000e+07  5.000000e+00   63.000000   1977.000000\n",
       "25%    1.354102e+07  2.300000e+07  4.627375e+06   97.000000   1998.000000\n",
       "50%    1.979141e+07  3.500000e+07  1.200000e+07  106.000000   2004.000000\n",
       "75%    3.051780e+07  6.000000e+07  2.415993e+07  118.000000   2009.000000\n",
       "max    4.139124e+08  4.250000e+08  1.509625e+08  338.000000   2015.000000"
      ]
     },
     "execution_count": 46,
     "metadata": {},
     "output_type": "execute_result"
    }
   ],
   "source": [
    "df_s2.describe()"
   ]
  },
  {
   "cell_type": "markdown",
   "metadata": {},
   "source": [
    "<a id='conclusions'></a>\n",
    "## Conclusions\n"
   ]
  },
  {
   "cell_type": "markdown",
   "metadata": {},
   "source": [
    "### We started out looking at two questions \n",
    "\n",
    "+ What genre is the most popular for each year? \n",
    "\n",
    "+ what kinds of properties are associated with movies that have high revenues?\n",
    "\n",
    "We deduce that Drama & Action are the top genres that made the highest movies profit\n",
    "\n",
    "we also conclude that to make the movie high profit we should make the Budget in range between 45M and 55M dollar,\n",
    "\n",
    "and the duration of the movie should in range 110-120 minutes *runtime of the movie* \n",
    "\n",
    "and genres of the movie should be Action or Drama.\n",
    "\n",
    "and Any one of these should be in the cast: Tom Cruise, Brad Pitt, Tom Hanks, Sylvester Stallone,Cameron Diaz "
   ]
  },
  {
   "cell_type": "markdown",
   "metadata": {},
   "source": [
    "Limitations\n",
    "\n",
    "This dataset does not contain all movies which were released and the directors' names. \n",
    "also I just know the total revenue of every movie. It would be great to know. One the same hand, most movies are missing values of revenues and budgets this lead to more than half of the rows have removed because of null values & 0s values. Else the graph could have been skewed or flattened. so It's not 100 percent guaranteed solution that this formula is right 100%"
   ]
  }
 ],
 "metadata": {
  "kernelspec": {
   "display_name": "Python 3",
   "language": "python",
   "name": "python3"
  },
  "language_info": {
   "codemirror_mode": {
    "name": "ipython",
    "version": 3
   },
   "file_extension": ".py",
   "mimetype": "text/x-python",
   "name": "python",
   "nbconvert_exporter": "python",
   "pygments_lexer": "ipython3",
   "version": "3.8.5"
  }
 },
 "nbformat": 4,
 "nbformat_minor": 2
}
